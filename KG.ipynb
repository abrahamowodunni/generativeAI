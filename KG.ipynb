{
  "nbformat": 4,
  "nbformat_minor": 0,
  "metadata": {
    "colab": {
      "provenance": [],
      "gpuType": "T4"
    },
    "kernelspec": {
      "name": "python3",
      "display_name": "Python 3"
    },
    "language_info": {
      "name": "python"
    },
    "accelerator": "GPU"
  },
  "cells": [
    {
      "cell_type": "code",
      "execution_count": 1,
      "metadata": {
        "colab": {
          "base_uri": "https://localhost:8080/"
        },
        "id": "uyh01saBDp44",
        "outputId": "93ce72c6-a6eb-4ec9-e00a-330fa73860b7"
      },
      "outputs": [
        {
          "output_type": "stream",
          "name": "stdout",
          "text": [
            "\u001b[?25l   \u001b[90m━━━━━━━━━━━━━━━━━━━━━━━━━━━━━━━━━━━━━━━━\u001b[0m \u001b[32m0.0/1.0 MB\u001b[0m \u001b[31m?\u001b[0m eta \u001b[36m-:--:--\u001b[0m\r\u001b[2K   \u001b[90m━━━━━━━━━━━━━━━━━━━━━━━━━━━━━━━━━━━━━━━━\u001b[0m \u001b[32m1.0/1.0 MB\u001b[0m \u001b[31m32.7 MB/s\u001b[0m eta \u001b[36m0:00:00\u001b[0m\n",
            "\u001b[?25h\u001b[?25l   \u001b[90m━━━━━━━━━━━━━━━━━━━━━━━━━━━━━━━━━━━━━━━━\u001b[0m \u001b[32m0.0/2.5 MB\u001b[0m \u001b[31m?\u001b[0m eta \u001b[36m-:--:--\u001b[0m\r\u001b[2K   \u001b[91m━━━━━━━━━━━━━━━━━━━━━━━━━━━━━━━━━━━━━━━\u001b[0m\u001b[91m╸\u001b[0m \u001b[32m2.5/2.5 MB\u001b[0m \u001b[31m151.3 MB/s\u001b[0m eta \u001b[36m0:00:01\u001b[0m\r\u001b[2K   \u001b[90m━━━━━━━━━━━━━━━━━━━━━━━━━━━━━━━━━━━━━━━━\u001b[0m \u001b[32m2.5/2.5 MB\u001b[0m \u001b[31m69.0 MB/s\u001b[0m eta \u001b[36m0:00:00\u001b[0m\n",
            "\u001b[?25h\u001b[?25l   \u001b[90m━━━━━━━━━━━━━━━━━━━━━━━━━━━━━━━━━━━━━━━━\u001b[0m \u001b[32m0.0/54.7 kB\u001b[0m \u001b[31m?\u001b[0m eta \u001b[36m-:--:--\u001b[0m\r\u001b[2K   \u001b[90m━━━━━━━━━━━━━━━━━━━━━━━━━━━━━━━━━━━━━━━━\u001b[0m \u001b[32m54.7/54.7 kB\u001b[0m \u001b[31m4.9 MB/s\u001b[0m eta \u001b[36m0:00:00\u001b[0m\n",
            "\u001b[?25h\u001b[?25l   \u001b[90m━━━━━━━━━━━━━━━━━━━━━━━━━━━━━━━━━━━━━━━━\u001b[0m \u001b[32m0.0/312.3 kB\u001b[0m \u001b[31m?\u001b[0m eta \u001b[36m-:--:--\u001b[0m\r\u001b[2K   \u001b[90m━━━━━━━━━━━━━━━━━━━━━━━━━━━━━━━━━━━━━━━━\u001b[0m \u001b[32m312.3/312.3 kB\u001b[0m \u001b[31m22.4 MB/s\u001b[0m eta \u001b[36m0:00:00\u001b[0m\n",
            "\u001b[2K   \u001b[90m━━━━━━━━━━━━━━━━━━━━━━━━━━━━━━━━━━━━━━━━\u001b[0m \u001b[32m121.9/121.9 kB\u001b[0m \u001b[31m9.8 MB/s\u001b[0m eta \u001b[36m0:00:00\u001b[0m\n",
            "\u001b[2K   \u001b[90m━━━━━━━━━━━━━━━━━━━━━━━━━━━━━━━━━━━━━━━━\u001b[0m \u001b[32m413.0/413.0 kB\u001b[0m \u001b[31m31.0 MB/s\u001b[0m eta \u001b[36m0:00:00\u001b[0m\n",
            "\u001b[2K   \u001b[90m━━━━━━━━━━━━━━━━━━━━━━━━━━━━━━━━━━━━━━━━\u001b[0m \u001b[32m463.1/463.1 kB\u001b[0m \u001b[31m30.2 MB/s\u001b[0m eta \u001b[36m0:00:00\u001b[0m\n",
            "\u001b[2K   \u001b[90m━━━━━━━━━━━━━━━━━━━━━━━━━━━━━━━━━━━━━━━━\u001b[0m \u001b[32m1.2/1.2 MB\u001b[0m \u001b[31m57.5 MB/s\u001b[0m eta \u001b[36m0:00:00\u001b[0m\n",
            "\u001b[2K   \u001b[90m━━━━━━━━━━━━━━━━━━━━━━━━━━━━━━━━━━━━━━━━\u001b[0m \u001b[32m50.9/50.9 kB\u001b[0m \u001b[31m4.8 MB/s\u001b[0m eta \u001b[36m0:00:00\u001b[0m\n",
            "\u001b[?25h"
          ]
        }
      ],
      "source": [
        "#!pip install --upgrade --quiet langchain langchain-community langchain-openai neo4j langchain-groq"
      ]
    },
    {
      "cell_type": "code",
      "source": [
        "import nest_asyncio\n",
        "from dotenv import load_dotenv, find_dotenv\n",
        "import os\n",
        "load_dotenv(find_dotenv())\n",
        "nest_asyncio.apply()\n"
      ],
      "metadata": {
        "id": "H7FWtSdpFQO9"
      },
      "execution_count": 1,
      "outputs": []
    },
    {
      "cell_type": "code",
      "source": [
        "## GraphDB instance/ configuration\n",
        "NEO4J_URI=os.getenv(\"NEO4J_URI\")\n",
        "NEO4J_USERNAME=os.getenv(\"NEO4J_USERNAME\")\n",
        "NEO4J_PASSWORD=os.getenv(\"NEO4J_PASSWORD\")\n"
      ],
      "metadata": {
        "id": "HJPTKiG6D-Rd"
      },
      "execution_count": 2,
      "outputs": []
    },
    {
      "cell_type": "code",
      "source": [
        "from langchain_community.graphs import Neo4jGraph\n",
        "kg = Neo4jGraph(\n",
        "    url=NEO4J_URI, username=NEO4J_USERNAME, password=NEO4J_PASSWORD\n",
        ")"
      ],
      "metadata": {
        "colab": {
          "base_uri": "https://localhost:8080/"
        },
        "id": "WN9XTn-RD-La",
        "outputId": "e4dccd01-d3a7-4891-8778-47e6d4927ee6"
      },
      "execution_count": 3,
      "outputs": [
        {
          "output_type": "stream",
          "name": "stderr",
          "text": [
            "<ipython-input-3-49501480dad3>:2: LangChainDeprecationWarning: The class `Neo4jGraph` was deprecated in LangChain 0.3.8 and will be removed in 1.0. An updated version of the class exists in the :class:`~langchain-neo4j package and should be used instead. To use it run `pip install -U :class:`~langchain-neo4j` and import as `from :class:`~langchain_neo4j import Neo4jGraph``.\n",
            "  kg = Neo4jGraph(\n"
          ]
        }
      ]
    },
    {
      "cell_type": "code",
      "source": [
        "kg.query(\"MATCH (n) RETURN COUNT(n) AS count\")"
      ],
      "metadata": {
        "colab": {
          "base_uri": "https://localhost:8080/"
        },
        "id": "c-5fiYRuGEdm",
        "outputId": "ca82cf07-18f8-478a-bee4-6a706c69a710"
      },
      "execution_count": 4,
      "outputs": [
        {
          "output_type": "execute_result",
          "data": {
            "text/plain": [
              "[{'count': 5}]"
            ]
          },
          "metadata": {},
          "execution_count": 4
        }
      ]
    },
    {
      "cell_type": "code",
      "source": [
        "groq_api_key=os.getenv(\"groq_api_key\")\n",
        "groq_api_key"
      ],
      "metadata": {
        "colab": {
          "base_uri": "https://localhost:8080/",
          "height": 35
        },
        "id": "Xr2MplZ8I2Je",
        "outputId": "fc566407-e6f5-48d7-e919-4f27f3274ba6"
      },
      "execution_count": 5,
      "outputs": [
        {
          "output_type": "execute_result",
          "data": {
            "text/plain": [
              "'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'"
            ],
            "application/vnd.google.colaboratory.intrinsic+json": {
              "type": "string"
            }
          },
          "metadata": {},
          "execution_count": 5
        }
      ]
    },
    {
      "cell_type": "code",
      "source": [
        "from ast import mod\n",
        "from langchain_groq import ChatGroq\n",
        "\n",
        "llm = ChatGroq(groq_api_key=groq_api_key, model_name=\"llama-3.3-70b-specdec\")\n",
        "llm"
      ],
      "metadata": {
        "colab": {
          "base_uri": "https://localhost:8080/"
        },
        "id": "zjzPR_piGEaN",
        "outputId": "574572fe-dfa5-4a5e-91a1-201237b63311"
      },
      "execution_count": 13,
      "outputs": [
        {
          "output_type": "execute_result",
          "data": {
            "text/plain": [
              "ChatGroq(client=<groq.resources.chat.completions.Completions object at 0x7b57fbe9a710>, async_client=<groq.resources.chat.completions.AsyncCompletions object at 0x7b57fbe9b6a0>, model_name='llama-3.3-70b-specdec', model_kwargs={}, groq_api_key=SecretStr('**********'))"
            ]
          },
          "metadata": {},
          "execution_count": 13
        }
      ]
    },
    {
      "cell_type": "code",
      "source": [
        "from langchain_core.documents import Document\n",
        "\n",
        "text = \"\"\"\n",
        "Elon Musk: An Expanded Comprehensive Overview\n",
        "\n",
        "Introduction\n",
        "Elon Musk, a figure of monumental ambition and controversy, continues to redefine industries from space exploration to social media. His ventures—SpaceX, Tesla, Neuralink, and X (formerly Twitter)—reflect a relentless drive to address existential risks and technological frontiers. Yet, his polarizing leadership and public persona invite scrutiny. This expanded document delves deeper into Musk’s life, ventures, controversies, and legacy, offering a nuanced portrait of one of the 21st century’s most influential figures.\n",
        "\n",
        "Early Life and Family Dynamics\n",
        "Born in Pretoria, South Africa, Musk’s early years were marked by intellectual curiosity and familial complexity. His father, Errol Musk, an electromechanical engineer, and mother, Maye Musk, a dietitian and model, divorced when Elon was nine. Musk lived primarily with his father, later describing their relationship as strained. Errol’s authoritarian parenting and reported emotional detachment deeply impacted Musk, who has spoken about enduring bullying at school and finding solace in books and technology. At 12, he sold his first software, a space-themed game called Blastar, foreshadowing his future passions.\n",
        "\n",
        "Entrepreneurial Struggles and Breakthroughs\n",
        "\n",
        "Zip2: Co-founded with brother Kimbal in 1996, Zip2 aimed to digitize newspaper business directories. Musk reportedly slept in the office and showered at YMCA to keep the company afloat. Despite initial struggles, Compaq’s $307 million acquisition in 1999 validated Musk’s tenacity.\n",
        "\n",
        "X.com and PayPal: Musk’s\n",
        "12millionfromZip2fundedX.com,anonlinebank.AmergerwithConfinity(co−foundedbyPeterThiel)createdPayPal.MuskwasoustedasCEOin2000duringaleadershipdisputebutretainedan11.7180 million from eBay’s 2002 acquisition. This capital became the bedrock for SpaceX and Tesla.\n",
        "\n",
        "SpaceX: Triumphs and Near-Collapse\n",
        "Musk’s $100 million investment in SpaceX aimed to make space travel affordable. Early Falcon 1 launches failed (2006–2008), nearly bankrupting the company. The fourth launch’s success in 2008 secured a NASA contract, saving SpaceX.\n",
        "\n",
        "Reusability Revolution: The 2015 Falcon 9 landing disrupted aerospace economics, cutting costs by 90%. By 2023, SpaceX achieved 200+ successful booster recoveries.\n",
        "\n",
        "Starship and Mars: The fully reusable Starship, designed for Mars colonization, faced explosive test failures but progressed with orbital attempts in 2023. Musk envisions a self-sustaining Martian city by 2050.\n",
        "\n",
        "Starlink’s Global Impact: Deploying 4,500+ satellites, Starlink provides internet to 60+ countries. Its role in Ukraine’s defense against Russia (2022–present) highlighted geopolitical implications, though concerns about space debris and astronomical interference persist.\n",
        "\n",
        "Tesla: Disruption and Growing Pains\n",
        "Musk joined Tesla in 2004, steering it from niche EV maker to industry titan.\n",
        "\n",
        "Production Hell: The Model 3’s 2017 launch faced “production hell,” with Musk sleeping on factory floors to meet targets. Automation overreach caused delays, but Tesla achieved profitability by 2020.\n",
        "\n",
        "Autopilot Controversy: Despite branding, Tesla’s FSD remains Level 2 automation. The NHTSA investigated 40+ crashes involving Autopilot, including fatalities. Critics accuse Musk of overhyping capabilities, risking public safety.\n",
        "\n",
        "Gigafactories and Global Expansion: Factories in Berlin and Texas aim to produce 20 million vehicles annually by 2030. However, labor disputes, including allegations of union suppression in Sweden, mar Tesla’s reputation.\n",
        "\n",
        "SolarCity and Financial Controversy\n",
        "Musk’s 2016 Tesla-SolarCity merger faced shareholder lawsuits alleging a bailout for the solar firm, which was $3 billion in debt. Musk defended it as critical for a sustainable energy ecosystem. While Tesla Energy’s solar installations lagged, Powerwall batteries gained traction for home energy storage.\n",
        "\n",
        "Neuralink and Ethical Quandaries\n",
        "Founded in 2016, Neuralink seeks to merge humans with AI via brain implants.\n",
        "\n",
        "Animal Testing Backlash: Reports of monkey fatalities in trials sparked ethics complaints. Musk claimed “no monkey died,” but documents revealed gruesome complications.\n",
        "\n",
        "Human Trials: In 2023, Neuralink began recruiting for trials targeting paralysis patients, aiming to restore mobility. Critics question transparency and safety protocols.\n",
        "\n",
        "The Boring Company: Vision vs. Reality\n",
        "Musk’s 2016 tunnel venture promised to end traffic with underground networks. The Las Vegas Loop (2021), a 1.7-mile system, faced ridicule for its limited scale and traffic jams during conventions. Hyperloop, Musk’s 2013 open-sourced concept, spurred startups like Virgin Hyperloop, but technical hurdles (e.g., maintaining low-pressure tubes) stalled progress.\n",
        "\n",
        "Twitter/X: Chaos and Rebranding\n",
        "Musk’s $44 billion Twitter acquisition in 2022 triggered upheaval:\n",
        "\n",
        "Workforce Reduction: 80% of staff were cut, including content moderators, raising misinformation concerns.\n",
        "\n",
        "Content Policies: Reinstating banned accounts (e.g., Donald Trump) and monetizing verification led to advertiser exodus. By 2023, X’s value halved, per Fidelity.\n",
        "\n",
        "“Everything App” Vision: Musk plans to integrate payments, video, and AI, mirroring China’s WeChat. Skepticism remains over execution and regulatory hurdles.\n",
        "\n",
        "AI and OpenAI’s Evolution\n",
        "Musk co-founded OpenAI in 2015 but left in 2018, criticizing its shift from nonprofit to “profit-capped” status. In 2023, he launched X.AI, aiming to rival ChatGPT with a “truth-seeking” AI, further complicating his AI safety advocacy.\n",
        "\n",
        "Controversies and Leadership Style\n",
        "\n",
        "SEC Clashes: A 2018 tweet about taking Tesla private led to a $40 million fine and Musk’s temporary removal as chairman.\n",
        "\n",
        "COVID-19 Misinformation: Musk downplayed the pandemic, calling lockdowns “fascist” and spreading unverified treatments.\n",
        "\n",
        "Labor Practices: Tesla factories faced OSHA complaints over injuries, while Musk mocked union efforts as “morally wrong.”\n",
        "\n",
        "Public Feuds: From labeling a cave rescuer “pedo guy” (leading to a defamation suit) to taunting regulators, Musk’s volatility often overshadows his missions.\n",
        "\n",
        "Personal Life and Philosophy\n",
        "Musk’s personal life reflects his unorthodox ethos. He has ten children with three women: author Justine Wilson, musician Grimes, and Neuralink executive Shivon Zilis. His workaholism—reportedly working 120-hour weeks—fuels his ventures but raises questions about sustainability. A self-described “nano-manager,” he immerses himself in engineering details, exemplified by his hands-on role in SpaceX’s Starship design.\n",
        "\n",
        "Legacy: Visionary or Villain?\n",
        "Musk’s impact is profound yet contentious:\n",
        "\n",
        "Progressive vs. Regressive: While accelerating renewables and space innovation, his ventures face ethical, environmental, and labor critiques.\n",
        "\n",
        "Cultural Influence: Memes, viral tweets, and Rick and Morty cameos cement his pop culture status, but critics argue he trivializes science.\n",
        "\n",
        "Long-Term Risks: Starlink’s satellite crowding, AI’s unchecked growth, and Mars colonization’s feasibility remain unresolved challenges.\n",
        "\n",
        "\n",
        "\n",
        "Elon Musk and X (formerly Twitter): A Comprehensive Overview\n",
        "The Acquisition Journey\n",
        "In April 2022, Elon Musk initiated what would become one of the most talked-about corporate acquisitions in tech history. After acquiring a 9.2% stake in Twitter, making him the largest shareholder, Musk made an unexpected $44 billion bid to purchase the entire company. This sparked a months-long saga filled with legal battles, public disputes, and market speculation.\n",
        "The deal was characterized by dramatic turns, including Musk's attempts to terminate the agreement, citing concerns about bot accounts and user data. However, facing legal pressure and potential court proceedings, Musk ultimately completed the acquisition in October 2022 at the original price of $54.20 per share.\n",
        "Pre-Acquisition Dynamics\n",
        "Before the acquisition, Twitter had been facing various challenges in the social media landscape. The platform struggled with user growth compared to competitors like TikTok and Instagram, while also grappling with content moderation issues and monetization strategies. Musk's interest in Twitter stemmed from his belief that the platform served as the de facto \"town square\" of the internet, making it crucial for public discourse and free speech.\n",
        "The acquisition process itself revealed significant insights into corporate governance and securities law. Musk's unconventional approach, including his use of Twitter itself to communicate about the deal, created unprecedented situations for regulators and legal experts to navigate. His initial failure to disclose his large stake in Twitter within the required timeframe led to regulatory scrutiny and highlighted the complexities of modern corporate acquisitions.\n",
        "Immediate Changes and Corporate Restructuring\n",
        "Upon taking control, Musk implemented sweeping changes:\n",
        "Leadership and Workforce\n",
        "Musk immediately dissolved the board of directors and terminated several top executives, including CEO Parag Agrawal and CFO Ned Segal. In a controversial move, he reduced the workforce by approximately 50%, arguing that the company was overstaffed and financially inefficient. The layoffs affected various departments, from engineering to content moderation teams.\n",
        "The restructuring extended beyond simple staff reductions. Musk introduced a \"hardcore\" work culture, requiring employees to commit to \"extremely hardcore\" work hours and intensity or leave the company. This led to additional voluntary departures and a significant reshaping of the company culture. The remaining workforce was reorganized into more fluid teams, with an emphasis on rapid development and deployment of new features.\n",
        "Technical Infrastructure Evolution\n",
        "The platform's technical architecture underwent fundamental changes under Musk's leadership:\n",
        "Code Base Modernization\n",
        "The engineering team initiated a comprehensive code review and modernization effort. Legacy systems were identified and marked for replacement or improvement. The codebase was streamlined to improve performance and reduce technical debt. This included:\n",
        "\n",
        "Migration to more efficient database structures\n",
        "Implementation of modern API architectures\n",
        "Enhancement of real-time processing capabilities\n",
        "Optimization of the recommendation engine\n",
        "Integration of new machine learning models for content filtering and recommendation\n",
        "\n",
        "Performance Improvements\n",
        "Significant attention was paid to improving platform performance:\n",
        "\n",
        "Reduced latency in tweet delivery\n",
        "Enhanced mobile app performance\n",
        "Improved video streaming capabilities\n",
        "Better handling of high-traffic events\n",
        "Implementation of more efficient caching mechanisms\n",
        "\n",
        "The Transformation to X\n",
        "Rebranding Initiative\n",
        "In July 2023, Musk executed perhaps his most visible change: rebranding Twitter to \"X.\" This transformation went beyond a simple name change, representing Musk's vision of creating an \"everything app\" similar to China's WeChat. The iconic blue bird logo was replaced with an X symbol, marking the end of an era for one of social media's most recognizable brands.\n",
        "Strategic Vision and Implementation\n",
        "The rebranding to X represented more than a cosmetic change; it signaled a fundamental shift in the platform's strategic direction. The vision for X encompasses:\n",
        "Financial Services Integration\n",
        "The platform began developing comprehensive financial services:\n",
        "\n",
        "Peer-to-peer payment capabilities\n",
        "Cryptocurrency integration possibilities\n",
        "Banking features and money transfer services\n",
        "Integration with existing financial systems\n",
        "Development of a digital wallet system\n",
        "\n",
        "Enhanced Communication Tools\n",
        "X expanded its communication capabilities:\n",
        "\n",
        "Advanced direct messaging features\n",
        "Group communication tools\n",
        "Voice and video chat capabilities\n",
        "Professional networking features\n",
        "Community-building tools\n",
        "\n",
        "Content Creator Economy\n",
        "The platform introduced new tools for content creators:\n",
        "\n",
        "Improved monetization options\n",
        "Enhanced analytics and insights\n",
        "Better content management tools\n",
        "Subscription-based content options\n",
        "Creator collaboration features\n",
        "\n",
        "Platform Economics and Monetization\n",
        "Revenue Diversification\n",
        "Under Musk's leadership, X implemented various strategies to diversify revenue streams:\n",
        "Subscription Services\n",
        "The platform expanded its subscription offerings:\n",
        "\n",
        "Multiple tiers of X Premium (formerly Twitter Blue)\n",
        "Enterprise-level subscriptions\n",
        "API access pricing changes\n",
        "Premium features for businesses\n",
        "Enhanced analytics packages\n",
        "\n",
        "Advertising Evolution\n",
        "The advertising model underwent significant changes:\n",
        "\n",
        "Introduction of new ad formats\n",
        "Enhanced targeting capabilities\n",
        "Performance-based pricing models\n",
        "Integration with e-commerce features\n",
        "Improved analytics for advertisers\n",
        "\n",
        "Technology Integration and Innovation\n",
        "Artificial Intelligence Implementation\n",
        "X has increasingly leveraged AI technologies:\n",
        "\n",
        "Enhanced content recommendation systems\n",
        "Automated content moderation tools\n",
        "Personalized user experience features\n",
        "Natural language processing improvements\n",
        "Predictive analytics capabilities\n",
        "\n",
        "Infrastructure Modernization\n",
        "The platform underwent significant technical upgrades:\n",
        "\n",
        "Cloud infrastructure optimization\n",
        "Enhanced security protocols\n",
        "Improved scalability solutions\n",
        "Better disaster recovery systems\n",
        "Advanced monitoring tools\n",
        "\n",
        "Future Prospects and Challenges\n",
        "Market Competition\n",
        "X faces intense competition in various sectors:\n",
        "\n",
        "Social media platforms\n",
        "Digital payment services\n",
        "Professional networking\n",
        "Content creation platforms\n",
        "Communication tools\n",
        "\n",
        "Regulatory Environment\n",
        "The platform navigates complex regulatory challenges:\n",
        "\n",
        "Content moderation requirements\n",
        "Data privacy regulations\n",
        "Financial services compliance\n",
        "International operation rules\n",
        "Competition laws\n",
        "\n",
        "\n",
        "Elon Musk and the Rise of SpaceX: A Vision for the Future of Space Exploration\n",
        "\n",
        "Introduction\n",
        "Elon Musk, the visionary entrepreneur known for his relentless drive to push technological boundaries, is the founder and CEO of SpaceX, one of the most influential private aerospace companies in history. Since its inception in 2002, SpaceX has revolutionized space travel with innovations in reusable rockets, cost-effective launch systems, and ambitious plans to colonize Mars. Musk’s deep involvement in the company has shaped its trajectory, making it a dominant force in the aerospace industry. This document explores Musk’s relationship with SpaceX, his vision, challenges, and the significant milestones the company has achieved under his leadership.\n",
        "\n",
        "The Founding of SpaceX\n",
        "Elon Musk’s fascination with space began long before SpaceX. In the early 2000s, Musk was disheartened by the lack of progress in space exploration. NASA’s focus had shifted away from bold interplanetary travel, and existing rocket launch systems were prohibitively expensive. Musk’s initial idea was to fund a private mission to send a greenhouse to Mars to reignite public interest in space. However, after researching launch options, he realized that existing rockets were too costly and inefficient for such missions.\n",
        "\n",
        "Rather than rely on existing aerospace firms, Musk decided to build his own rockets from scratch, focusing on reusability and cost reduction. Thus, SpaceX (Space Exploration Technologies Corp.) was founded in 2002 with the ambitious goal of making space travel more affordable and accessible.\n",
        "\n",
        "Early Struggles and Breakthroughs\n",
        "Like many startups, SpaceX faced significant hurdles in its early years. The company’s first three launches—Falcon 1 missions in 2006, 2007, and 2008—all ended in failure. Each failed launch pushed the company closer to financial collapse. Musk himself admitted that they only had enough funding left for one more attempt. In 2008, SpaceX successfully launched Falcon 1 Flight 4, making it the first privately developed liquid-fueled rocket to reach orbit. This success validated Musk’s vision and secured crucial NASA contracts, giving SpaceX the financial stability it needed to continue operations.\n",
        "\n",
        "NASA Partnerships and the Commercial Space Revolution\n",
        "Following the Falcon 1 success, SpaceX won a contract with NASA under the Commercial Orbital Transportation Services (COTS) program, which aimed to use private companies to transport cargo to the International Space Station (ISS). This marked a significant shift in the space industry, reducing dependence on traditional government-funded programs. SpaceX’s Dragon spacecraft, launched atop the Falcon 9 rocket, became the first commercial spacecraft to dock with the ISS in 2012.\n",
        "\n",
        "This partnership with NASA helped SpaceX refine its technology while securing consistent funding. The success of the Dragon missions laid the groundwork for future crewed missions, further solidifying Musk’s belief that commercial space travel could thrive.\n",
        "\n",
        "Reusability: A Game-Changer in Spaceflight\n",
        "One of Musk’s key innovations with SpaceX has been the development of reusable rocket technology. Traditional rockets were entirely expendable, leading to exorbitant costs per launch. SpaceX set out to change this paradigm by developing rockets that could land back on Earth and be reused multiple times.\n",
        "\n",
        "In 2015, SpaceX successfully landed a Falcon 9 first stage booster for the first time. This achievement was a major breakthrough, proving that rockets could be reused safely and significantly lowering the cost of access to space. Since then, SpaceX has continued to improve reusability, with some Falcon 9 boosters flying more than a dozen times.\n",
        "\n",
        "The Falcon Heavy and Starship: Pushing Boundaries\n",
        "SpaceX’s drive for innovation didn’t stop with the Falcon 9. In 2018, the company launched Falcon Heavy, the most powerful operational rocket in the world at the time. Capable of carrying massive payloads, Falcon Heavy was a step toward deep space exploration.\n",
        "\n",
        "However, Musk’s ultimate goal has always been interplanetary travel, particularly colonizing Mars. This ambition led to the development of Starship, a fully reusable spacecraft designed to carry humans and cargo to the Moon, Mars, and beyond. SpaceX has been conducting a series of test flights, steadily refining the vehicle’s design. Starship represents the culmination of Musk’s vision: a spacecraft capable of enabling sustainable human life on other planets.\n",
        "\n",
        "The Space Tourism Era\n",
        "While SpaceX’s primary mission has been to make space travel more affordable, the company has also ventured into space tourism. In 2021, the Inspiration4 mission became the first all-civilian spaceflight, taking four private individuals into orbit aboard a Crew Dragon spacecraft. This mission marked a new era of commercial space travel, demonstrating that non-astronauts could also experience spaceflight.\n",
        "\n",
        "SpaceX has also partnered with organizations and individuals, such as Japanese billionaire Yusaku Maezawa, who plans to take artists and creators on a lunar trip aboard Starship. Musk’s long-term vision includes making space tourism an economically viable industry, further funding Mars colonization efforts.\n",
        "\n",
        "Mars Colonization: Musk’s Ultimate Dream\n",
        "Elon Musk has repeatedly stated that his ultimate goal is to make humanity a multi-planetary species. He believes that colonizing Mars is essential for the long-term survival of humanity, protecting civilization from potential existential threats such as asteroid impacts or global catastrophes.\n",
        "\n",
        "SpaceX’s Mars colonization strategy revolves around Starship. The spacecraft is designed to carry up to 100 people per trip and will rely on in-orbit refueling to make interplanetary travel feasible. Musk envisions a self-sustaining Martian colony with infrastructure for agriculture, energy production, and habitation. While skeptics argue that the technological and financial challenges of colonizing Mars are immense, Musk remains undeterred, pushing SpaceX toward developing the necessary technology.\n",
        "\n",
        "Challenges and Criticisms\n",
        "Despite SpaceX’s many achievements, the company and its CEO have faced challenges and criticism. Developing space technology is inherently risky, and test flights often result in failures. The aggressive pace at which SpaceX operates has led to concerns about safety, particularly regarding Starship’s rapid development cycle.\n",
        "\n",
        "Additionally, Musk’s ambitious promises sometimes clash with realistic timelines. While he initially predicted humans on Mars by the mid-2020s, delays in Starship’s progress and regulatory hurdles have pushed this timeline further into the future. Critics also argue that Musk’s focus on Mars colonization diverts attention from pressing issues on Earth, such as climate change and social inequality.\n",
        "\n",
        "The Future of SpaceX and Musk’s Vision\n",
        "Looking ahead, SpaceX continues to break new ground. The company is developing the Starship program with NASA’s Artemis mission, which aims to return humans to the Moon. Additionally, the expansion of the Starlink satellite network—a SpaceX initiative to provide global broadband internet—demonstrates how Musk is leveraging space technology for practical applications on Earth.\n",
        "\n",
        "Despite challenges, Musk’s relentless pursuit of innovation has cemented SpaceX’s role as a leader in the space industry. The company’s impact extends beyond its immediate successes, inspiring a new generation of entrepreneurs and engineers to think boldly about space exploration.\n",
        "\"\"\"\n"
      ],
      "metadata": {
        "id": "Iq5MG2KgGEXJ"
      },
      "execution_count": 7,
      "outputs": []
    },
    {
      "cell_type": "code",
      "source": [
        "len(text)"
      ],
      "metadata": {
        "colab": {
          "base_uri": "https://localhost:8080/"
        },
        "id": "Jkx_QXvTSRKQ",
        "outputId": "483e480e-5277-4a3c-d365-279737459aa5"
      },
      "execution_count": 8,
      "outputs": [
        {
          "output_type": "execute_result",
          "data": {
            "text/plain": [
              "21179"
            ]
          },
          "metadata": {},
          "execution_count": 8
        }
      ]
    },
    {
      "cell_type": "code",
      "source": [
        "documents = Document(page_content=text)"
      ],
      "metadata": {
        "id": "X3a3FDBYGEUI"
      },
      "execution_count": 9,
      "outputs": []
    },
    {
      "cell_type": "code",
      "source": [
        "from langchain_experimental.graph_transformers import LLMGraphTransformer\n",
        "llm_transformer = LLMGraphTransformer(llm=llm)\n"
      ],
      "metadata": {
        "id": "jNieoIwNGEKm"
      },
      "execution_count": 14,
      "outputs": []
    },
    {
      "cell_type": "code",
      "source": [
        "print(type(documents))"
      ],
      "metadata": {
        "colab": {
          "base_uri": "https://localhost:8080/"
        },
        "id": "l_kytAGHRXCk",
        "outputId": "72641037-aad0-4d2a-ad0b-83a0762a3df0"
      },
      "execution_count": 15,
      "outputs": [
        {
          "output_type": "stream",
          "name": "stdout",
          "text": [
            "<class 'langchain_core.documents.base.Document'>\n"
          ]
        }
      ]
    },
    {
      "cell_type": "code",
      "source": [
        "graph_document = llm_transformer.convert_to_graph_documents([documents])"
      ],
      "metadata": {
        "id": "Ix5umnU3GEHU"
      },
      "execution_count": 16,
      "outputs": []
    },
    {
      "cell_type": "code",
      "source": [
        "graph_document"
      ],
      "metadata": {
        "colab": {
          "base_uri": "https://localhost:8080/"
        },
        "id": "PvkPAVSVGEDN",
        "outputId": "129510d6-a4e5-4462-a2ec-68fd4f936c1a"
      },
      "execution_count": 17,
      "outputs": [
        {
          "output_type": "execute_result",
          "data": {
            "text/plain": [
              "[GraphDocument(nodes=[Node(id='Elon Musk', type='Person', properties={}), Node(id='Spacex', type='Company', properties={}), Node(id='Tesla', type='Company', properties={}), Node(id='Neuralink', type='Company', properties={}), Node(id='X (Formerly Twitter)', type='Company', properties={}), Node(id='Starship', type='Spacecraft', properties={}), Node(id='Mars', type='Planet', properties={}), Node(id='Nasa', type='Organization', properties={})], relationships=[Relationship(source=Node(id='Elon Musk', type='Person', properties={}), target=Node(id='Spacex', type='Company', properties={}), type='FOUNDER', properties={}), Relationship(source=Node(id='Elon Musk', type='Person', properties={}), target=Node(id='Tesla', type='Company', properties={}), type='CEO', properties={}), Relationship(source=Node(id='Elon Musk', type='Person', properties={}), target=Node(id='Neuralink', type='Company', properties={}), type='FOUNDER', properties={}), Relationship(source=Node(id='Elon Musk', type='Person', properties={}), target=Node(id='X (Formerly Twitter)', type='Company', properties={}), type='OWNER', properties={}), Relationship(source=Node(id='Spacex', type='Company', properties={}), target=Node(id='Starship', type='Spacecraft', properties={}), type='DEVELOPER', properties={}), Relationship(source=Node(id='Spacex', type='Company', properties={}), target=Node(id='Mars', type='Planet', properties={}), type='DESTINATION', properties={}), Relationship(source=Node(id='Nasa', type='Organization', properties={}), target=Node(id='Spacex', type='Company', properties={}), type='PARTNER', properties={})], source=Document(metadata={}, page_content='\\nElon Musk: An Expanded Comprehensive Overview\\n\\nIntroduction\\nElon Musk, a figure of monumental ambition and controversy, continues to redefine industries from space exploration to social media. His ventures—SpaceX, Tesla, Neuralink, and X (formerly Twitter)—reflect a relentless drive to address existential risks and technological frontiers. Yet, his polarizing leadership and public persona invite scrutiny. This expanded document delves deeper into Musk’s life, ventures, controversies, and legacy, offering a nuanced portrait of one of the 21st century’s most influential figures.\\n\\nEarly Life and Family Dynamics\\nBorn in Pretoria, South Africa, Musk’s early years were marked by intellectual curiosity and familial complexity. His father, Errol Musk, an electromechanical engineer, and mother, Maye Musk, a dietitian and model, divorced when Elon was nine. Musk lived primarily with his father, later describing their relationship as strained. Errol’s authoritarian parenting and reported emotional detachment deeply impacted Musk, who has spoken about enduring bullying at school and finding solace in books and technology. At 12, he sold his first software, a space-themed game called Blastar, foreshadowing his future passions.\\n\\nEntrepreneurial Struggles and Breakthroughs\\n\\nZip2: Co-founded with brother Kimbal in 1996, Zip2 aimed to digitize newspaper business directories. Musk reportedly slept in the office and showered at YMCA to keep the company afloat. Despite initial struggles, Compaq’s $307 million acquisition in 1999 validated Musk’s tenacity.\\n\\nX.com and PayPal: Musk’s \\n12millionfromZip2fundedX.com,anonlinebank.AmergerwithConfinity(co−foundedbyPeterThiel)createdPayPal.MuskwasoustedasCEOin2000duringaleadershipdisputebutretainedan11.7180 million from eBay’s 2002 acquisition. This capital became the bedrock for SpaceX and Tesla.\\n\\nSpaceX: Triumphs and Near-Collapse\\nMusk’s $100 million investment in SpaceX aimed to make space travel affordable. Early Falcon 1 launches failed (2006–2008), nearly bankrupting the company. The fourth launch’s success in 2008 secured a NASA contract, saving SpaceX.\\n\\nReusability Revolution: The 2015 Falcon 9 landing disrupted aerospace economics, cutting costs by 90%. By 2023, SpaceX achieved 200+ successful booster recoveries.\\n\\nStarship and Mars: The fully reusable Starship, designed for Mars colonization, faced explosive test failures but progressed with orbital attempts in 2023. Musk envisions a self-sustaining Martian city by 2050.\\n\\nStarlink’s Global Impact: Deploying 4,500+ satellites, Starlink provides internet to 60+ countries. Its role in Ukraine’s defense against Russia (2022–present) highlighted geopolitical implications, though concerns about space debris and astronomical interference persist.\\n\\nTesla: Disruption and Growing Pains\\nMusk joined Tesla in 2004, steering it from niche EV maker to industry titan.\\n\\nProduction Hell: The Model 3’s 2017 launch faced “production hell,” with Musk sleeping on factory floors to meet targets. Automation overreach caused delays, but Tesla achieved profitability by 2020.\\n\\nAutopilot Controversy: Despite branding, Tesla’s FSD remains Level 2 automation. The NHTSA investigated 40+ crashes involving Autopilot, including fatalities. Critics accuse Musk of overhyping capabilities, risking public safety.\\n\\nGigafactories and Global Expansion: Factories in Berlin and Texas aim to produce 20 million vehicles annually by 2030. However, labor disputes, including allegations of union suppression in Sweden, mar Tesla’s reputation.\\n\\nSolarCity and Financial Controversy\\nMusk’s 2016 Tesla-SolarCity merger faced shareholder lawsuits alleging a bailout for the solar firm, which was $3 billion in debt. Musk defended it as critical for a sustainable energy ecosystem. While Tesla Energy’s solar installations lagged, Powerwall batteries gained traction for home energy storage.\\n\\nNeuralink and Ethical Quandaries\\nFounded in 2016, Neuralink seeks to merge humans with AI via brain implants.\\n\\nAnimal Testing Backlash: Reports of monkey fatalities in trials sparked ethics complaints. Musk claimed “no monkey died,” but documents revealed gruesome complications.\\n\\nHuman Trials: In 2023, Neuralink began recruiting for trials targeting paralysis patients, aiming to restore mobility. Critics question transparency and safety protocols.\\n\\nThe Boring Company: Vision vs. Reality\\nMusk’s 2016 tunnel venture promised to end traffic with underground networks. The Las Vegas Loop (2021), a 1.7-mile system, faced ridicule for its limited scale and traffic jams during conventions. Hyperloop, Musk’s 2013 open-sourced concept, spurred startups like Virgin Hyperloop, but technical hurdles (e.g., maintaining low-pressure tubes) stalled progress.\\n\\nTwitter/X: Chaos and Rebranding\\nMusk’s $44 billion Twitter acquisition in 2022 triggered upheaval:\\n\\nWorkforce Reduction: 80% of staff were cut, including content moderators, raising misinformation concerns.\\n\\nContent Policies: Reinstating banned accounts (e.g., Donald Trump) and monetizing verification led to advertiser exodus. By 2023, X’s value halved, per Fidelity.\\n\\n“Everything App” Vision: Musk plans to integrate payments, video, and AI, mirroring China’s WeChat. Skepticism remains over execution and regulatory hurdles.\\n\\nAI and OpenAI’s Evolution\\nMusk co-founded OpenAI in 2015 but left in 2018, criticizing its shift from nonprofit to “profit-capped” status. In 2023, he launched X.AI, aiming to rival ChatGPT with a “truth-seeking” AI, further complicating his AI safety advocacy.\\n\\nControversies and Leadership Style\\n\\nSEC Clashes: A 2018 tweet about taking Tesla private led to a $40 million fine and Musk’s temporary removal as chairman.\\n\\nCOVID-19 Misinformation: Musk downplayed the pandemic, calling lockdowns “fascist” and spreading unverified treatments.\\n\\nLabor Practices: Tesla factories faced OSHA complaints over injuries, while Musk mocked union efforts as “morally wrong.”\\n\\nPublic Feuds: From labeling a cave rescuer “pedo guy” (leading to a defamation suit) to taunting regulators, Musk’s volatility often overshadows his missions.\\n\\nPersonal Life and Philosophy\\nMusk’s personal life reflects his unorthodox ethos. He has ten children with three women: author Justine Wilson, musician Grimes, and Neuralink executive Shivon Zilis. His workaholism—reportedly working 120-hour weeks—fuels his ventures but raises questions about sustainability. A self-described “nano-manager,” he immerses himself in engineering details, exemplified by his hands-on role in SpaceX’s Starship design.\\n\\nLegacy: Visionary or Villain?\\nMusk’s impact is profound yet contentious:\\n\\nProgressive vs. Regressive: While accelerating renewables and space innovation, his ventures face ethical, environmental, and labor critiques.\\n\\nCultural Influence: Memes, viral tweets, and Rick and Morty cameos cement his pop culture status, but critics argue he trivializes science.\\n\\nLong-Term Risks: Starlink’s satellite crowding, AI’s unchecked growth, and Mars colonization’s feasibility remain unresolved challenges.\\n\\n\\n\\nElon Musk and X (formerly Twitter): A Comprehensive Overview\\nThe Acquisition Journey\\nIn April 2022, Elon Musk initiated what would become one of the most talked-about corporate acquisitions in tech history. After acquiring a 9.2% stake in Twitter, making him the largest shareholder, Musk made an unexpected $44 billion bid to purchase the entire company. This sparked a months-long saga filled with legal battles, public disputes, and market speculation.\\nThe deal was characterized by dramatic turns, including Musk\\'s attempts to terminate the agreement, citing concerns about bot accounts and user data. However, facing legal pressure and potential court proceedings, Musk ultimately completed the acquisition in October 2022 at the original price of $54.20 per share.\\nPre-Acquisition Dynamics\\nBefore the acquisition, Twitter had been facing various challenges in the social media landscape. The platform struggled with user growth compared to competitors like TikTok and Instagram, while also grappling with content moderation issues and monetization strategies. Musk\\'s interest in Twitter stemmed from his belief that the platform served as the de facto \"town square\" of the internet, making it crucial for public discourse and free speech.\\nThe acquisition process itself revealed significant insights into corporate governance and securities law. Musk\\'s unconventional approach, including his use of Twitter itself to communicate about the deal, created unprecedented situations for regulators and legal experts to navigate. His initial failure to disclose his large stake in Twitter within the required timeframe led to regulatory scrutiny and highlighted the complexities of modern corporate acquisitions.\\nImmediate Changes and Corporate Restructuring\\nUpon taking control, Musk implemented sweeping changes:\\nLeadership and Workforce\\nMusk immediately dissolved the board of directors and terminated several top executives, including CEO Parag Agrawal and CFO Ned Segal. In a controversial move, he reduced the workforce by approximately 50%, arguing that the company was overstaffed and financially inefficient. The layoffs affected various departments, from engineering to content moderation teams.\\nThe restructuring extended beyond simple staff reductions. Musk introduced a \"hardcore\" work culture, requiring employees to commit to \"extremely hardcore\" work hours and intensity or leave the company. This led to additional voluntary departures and a significant reshaping of the company culture. The remaining workforce was reorganized into more fluid teams, with an emphasis on rapid development and deployment of new features.\\nTechnical Infrastructure Evolution\\nThe platform\\'s technical architecture underwent fundamental changes under Musk\\'s leadership:\\nCode Base Modernization\\nThe engineering team initiated a comprehensive code review and modernization effort. Legacy systems were identified and marked for replacement or improvement. The codebase was streamlined to improve performance and reduce technical debt. This included:\\n\\nMigration to more efficient database structures\\nImplementation of modern API architectures\\nEnhancement of real-time processing capabilities\\nOptimization of the recommendation engine\\nIntegration of new machine learning models for content filtering and recommendation\\n\\nPerformance Improvements\\nSignificant attention was paid to improving platform performance:\\n\\nReduced latency in tweet delivery\\nEnhanced mobile app performance\\nImproved video streaming capabilities\\nBetter handling of high-traffic events\\nImplementation of more efficient caching mechanisms\\n\\nThe Transformation to X\\nRebranding Initiative\\nIn July 2023, Musk executed perhaps his most visible change: rebranding Twitter to \"X.\" This transformation went beyond a simple name change, representing Musk\\'s vision of creating an \"everything app\" similar to China\\'s WeChat. The iconic blue bird logo was replaced with an X symbol, marking the end of an era for one of social media\\'s most recognizable brands.\\nStrategic Vision and Implementation\\nThe rebranding to X represented more than a cosmetic change; it signaled a fundamental shift in the platform\\'s strategic direction. The vision for X encompasses:\\nFinancial Services Integration\\nThe platform began developing comprehensive financial services:\\n\\nPeer-to-peer payment capabilities\\nCryptocurrency integration possibilities\\nBanking features and money transfer services\\nIntegration with existing financial systems\\nDevelopment of a digital wallet system\\n\\nEnhanced Communication Tools\\nX expanded its communication capabilities:\\n\\nAdvanced direct messaging features\\nGroup communication tools\\nVoice and video chat capabilities\\nProfessional networking features\\nCommunity-building tools\\n\\nContent Creator Economy\\nThe platform introduced new tools for content creators:\\n\\nImproved monetization options\\nEnhanced analytics and insights\\nBetter content management tools\\nSubscription-based content options\\nCreator collaboration features\\n\\nPlatform Economics and Monetization\\nRevenue Diversification\\nUnder Musk\\'s leadership, X implemented various strategies to diversify revenue streams:\\nSubscription Services\\nThe platform expanded its subscription offerings:\\n\\nMultiple tiers of X Premium (formerly Twitter Blue)\\nEnterprise-level subscriptions\\nAPI access pricing changes\\nPremium features for businesses\\nEnhanced analytics packages\\n\\nAdvertising Evolution\\nThe advertising model underwent significant changes:\\n\\nIntroduction of new ad formats\\nEnhanced targeting capabilities\\nPerformance-based pricing models\\nIntegration with e-commerce features\\nImproved analytics for advertisers\\n\\nTechnology Integration and Innovation\\nArtificial Intelligence Implementation\\nX has increasingly leveraged AI technologies:\\n\\nEnhanced content recommendation systems\\nAutomated content moderation tools\\nPersonalized user experience features\\nNatural language processing improvements\\nPredictive analytics capabilities\\n\\nInfrastructure Modernization\\nThe platform underwent significant technical upgrades:\\n\\nCloud infrastructure optimization\\nEnhanced security protocols\\nImproved scalability solutions\\nBetter disaster recovery systems\\nAdvanced monitoring tools\\n\\nFuture Prospects and Challenges\\nMarket Competition\\nX faces intense competition in various sectors:\\n\\nSocial media platforms\\nDigital payment services\\nProfessional networking\\nContent creation platforms\\nCommunication tools\\n\\nRegulatory Environment\\nThe platform navigates complex regulatory challenges:\\n\\nContent moderation requirements\\nData privacy regulations\\nFinancial services compliance\\nInternational operation rules\\nCompetition laws\\n\\n\\nElon Musk and the Rise of SpaceX: A Vision for the Future of Space Exploration\\n\\nIntroduction\\nElon Musk, the visionary entrepreneur known for his relentless drive to push technological boundaries, is the founder and CEO of SpaceX, one of the most influential private aerospace companies in history. Since its inception in 2002, SpaceX has revolutionized space travel with innovations in reusable rockets, cost-effective launch systems, and ambitious plans to colonize Mars. Musk’s deep involvement in the company has shaped its trajectory, making it a dominant force in the aerospace industry. This document explores Musk’s relationship with SpaceX, his vision, challenges, and the significant milestones the company has achieved under his leadership.\\n\\nThe Founding of SpaceX\\nElon Musk’s fascination with space began long before SpaceX. In the early 2000s, Musk was disheartened by the lack of progress in space exploration. NASA’s focus had shifted away from bold interplanetary travel, and existing rocket launch systems were prohibitively expensive. Musk’s initial idea was to fund a private mission to send a greenhouse to Mars to reignite public interest in space. However, after researching launch options, he realized that existing rockets were too costly and inefficient for such missions.\\n\\nRather than rely on existing aerospace firms, Musk decided to build his own rockets from scratch, focusing on reusability and cost reduction. Thus, SpaceX (Space Exploration Technologies Corp.) was founded in 2002 with the ambitious goal of making space travel more affordable and accessible.\\n\\nEarly Struggles and Breakthroughs\\nLike many startups, SpaceX faced significant hurdles in its early years. The company’s first three launches—Falcon 1 missions in 2006, 2007, and 2008—all ended in failure. Each failed launch pushed the company closer to financial collapse. Musk himself admitted that they only had enough funding left for one more attempt. In 2008, SpaceX successfully launched Falcon 1 Flight 4, making it the first privately developed liquid-fueled rocket to reach orbit. This success validated Musk’s vision and secured crucial NASA contracts, giving SpaceX the financial stability it needed to continue operations.\\n\\nNASA Partnerships and the Commercial Space Revolution\\nFollowing the Falcon 1 success, SpaceX won a contract with NASA under the Commercial Orbital Transportation Services (COTS) program, which aimed to use private companies to transport cargo to the International Space Station (ISS). This marked a significant shift in the space industry, reducing dependence on traditional government-funded programs. SpaceX’s Dragon spacecraft, launched atop the Falcon 9 rocket, became the first commercial spacecraft to dock with the ISS in 2012.\\n\\nThis partnership with NASA helped SpaceX refine its technology while securing consistent funding. The success of the Dragon missions laid the groundwork for future crewed missions, further solidifying Musk’s belief that commercial space travel could thrive.\\n\\nReusability: A Game-Changer in Spaceflight\\nOne of Musk’s key innovations with SpaceX has been the development of reusable rocket technology. Traditional rockets were entirely expendable, leading to exorbitant costs per launch. SpaceX set out to change this paradigm by developing rockets that could land back on Earth and be reused multiple times.\\n\\nIn 2015, SpaceX successfully landed a Falcon 9 first stage booster for the first time. This achievement was a major breakthrough, proving that rockets could be reused safely and significantly lowering the cost of access to space. Since then, SpaceX has continued to improve reusability, with some Falcon 9 boosters flying more than a dozen times.\\n\\nThe Falcon Heavy and Starship: Pushing Boundaries\\nSpaceX’s drive for innovation didn’t stop with the Falcon 9. In 2018, the company launched Falcon Heavy, the most powerful operational rocket in the world at the time. Capable of carrying massive payloads, Falcon Heavy was a step toward deep space exploration.\\n\\nHowever, Musk’s ultimate goal has always been interplanetary travel, particularly colonizing Mars. This ambition led to the development of Starship, a fully reusable spacecraft designed to carry humans and cargo to the Moon, Mars, and beyond. SpaceX has been conducting a series of test flights, steadily refining the vehicle’s design. Starship represents the culmination of Musk’s vision: a spacecraft capable of enabling sustainable human life on other planets.\\n\\nThe Space Tourism Era\\nWhile SpaceX’s primary mission has been to make space travel more affordable, the company has also ventured into space tourism. In 2021, the Inspiration4 mission became the first all-civilian spaceflight, taking four private individuals into orbit aboard a Crew Dragon spacecraft. This mission marked a new era of commercial space travel, demonstrating that non-astronauts could also experience spaceflight.\\n\\nSpaceX has also partnered with organizations and individuals, such as Japanese billionaire Yusaku Maezawa, who plans to take artists and creators on a lunar trip aboard Starship. Musk’s long-term vision includes making space tourism an economically viable industry, further funding Mars colonization efforts.\\n\\nMars Colonization: Musk’s Ultimate Dream\\nElon Musk has repeatedly stated that his ultimate goal is to make humanity a multi-planetary species. He believes that colonizing Mars is essential for the long-term survival of humanity, protecting civilization from potential existential threats such as asteroid impacts or global catastrophes.\\n\\nSpaceX’s Mars colonization strategy revolves around Starship. The spacecraft is designed to carry up to 100 people per trip and will rely on in-orbit refueling to make interplanetary travel feasible. Musk envisions a self-sustaining Martian colony with infrastructure for agriculture, energy production, and habitation. While skeptics argue that the technological and financial challenges of colonizing Mars are immense, Musk remains undeterred, pushing SpaceX toward developing the necessary technology.\\n\\nChallenges and Criticisms\\nDespite SpaceX’s many achievements, the company and its CEO have faced challenges and criticism. Developing space technology is inherently risky, and test flights often result in failures. The aggressive pace at which SpaceX operates has led to concerns about safety, particularly regarding Starship’s rapid development cycle.\\n\\nAdditionally, Musk’s ambitious promises sometimes clash with realistic timelines. While he initially predicted humans on Mars by the mid-2020s, delays in Starship’s progress and regulatory hurdles have pushed this timeline further into the future. Critics also argue that Musk’s focus on Mars colonization diverts attention from pressing issues on Earth, such as climate change and social inequality.\\n\\nThe Future of SpaceX and Musk’s Vision\\nLooking ahead, SpaceX continues to break new ground. The company is developing the Starship program with NASA’s Artemis mission, which aims to return humans to the Moon. Additionally, the expansion of the Starlink satellite network—a SpaceX initiative to provide global broadband internet—demonstrates how Musk is leveraging space technology for practical applications on Earth.\\n\\nDespite challenges, Musk’s relentless pursuit of innovation has cemented SpaceX’s role as a leader in the space industry. The company’s impact extends beyond its immediate successes, inspiring a new generation of entrepreneurs and engineers to think boldly about space exploration.\\n'))]"
            ]
          },
          "metadata": {},
          "execution_count": 17
        }
      ]
    },
    {
      "cell_type": "code",
      "source": [
        "graph_document[0].nodes"
      ],
      "metadata": {
        "colab": {
          "base_uri": "https://localhost:8080/"
        },
        "id": "wEPW6FJVD-IX",
        "outputId": "79abdd80-59a9-4a53-cc56-654c73b30d2c"
      },
      "execution_count": 19,
      "outputs": [
        {
          "output_type": "execute_result",
          "data": {
            "text/plain": [
              "[Node(id='Elon Musk', type='Person', properties={}),\n",
              " Node(id='Spacex', type='Company', properties={}),\n",
              " Node(id='Tesla', type='Company', properties={}),\n",
              " Node(id='Neuralink', type='Company', properties={}),\n",
              " Node(id='X (Formerly Twitter)', type='Company', properties={}),\n",
              " Node(id='Starship', type='Spacecraft', properties={}),\n",
              " Node(id='Mars', type='Planet', properties={}),\n",
              " Node(id='Nasa', type='Organization', properties={})]"
            ]
          },
          "metadata": {},
          "execution_count": 19
        }
      ]
    },
    {
      "cell_type": "code",
      "source": [
        "graph_document[0].relationships"
      ],
      "metadata": {
        "colab": {
          "base_uri": "https://localhost:8080/"
        },
        "id": "cLE2_ZhnD-Fe",
        "outputId": "ac184ea0-1711-483c-e05f-a967768b89d6"
      },
      "execution_count": 20,
      "outputs": [
        {
          "output_type": "execute_result",
          "data": {
            "text/plain": [
              "[Relationship(source=Node(id='Elon Musk', type='Person', properties={}), target=Node(id='Spacex', type='Company', properties={}), type='FOUNDER', properties={}),\n",
              " Relationship(source=Node(id='Elon Musk', type='Person', properties={}), target=Node(id='Tesla', type='Company', properties={}), type='CEO', properties={}),\n",
              " Relationship(source=Node(id='Elon Musk', type='Person', properties={}), target=Node(id='Neuralink', type='Company', properties={}), type='FOUNDER', properties={}),\n",
              " Relationship(source=Node(id='Elon Musk', type='Person', properties={}), target=Node(id='X (Formerly Twitter)', type='Company', properties={}), type='OWNER', properties={}),\n",
              " Relationship(source=Node(id='Spacex', type='Company', properties={}), target=Node(id='Starship', type='Spacecraft', properties={}), type='DEVELOPER', properties={}),\n",
              " Relationship(source=Node(id='Spacex', type='Company', properties={}), target=Node(id='Mars', type='Planet', properties={}), type='DESTINATION', properties={}),\n",
              " Relationship(source=Node(id='Nasa', type='Organization', properties={}), target=Node(id='Spacex', type='Company', properties={}), type='PARTNER', properties={})]"
            ]
          },
          "metadata": {},
          "execution_count": 20
        }
      ]
    },
    {
      "cell_type": "code",
      "source": [],
      "metadata": {
        "id": "WBj6F-zQD-C5"
      },
      "execution_count": null,
      "outputs": []
    },
    {
      "cell_type": "code",
      "source": [],
      "metadata": {
        "id": "-gG5R3t9D9_y"
      },
      "execution_count": null,
      "outputs": []
    },
    {
      "cell_type": "code",
      "source": [],
      "metadata": {
        "id": "jlTQT0_6D99K"
      },
      "execution_count": null,
      "outputs": []
    },
    {
      "cell_type": "code",
      "source": [],
      "metadata": {
        "id": "ADu0djYUD952"
      },
      "execution_count": null,
      "outputs": []
    },
    {
      "cell_type": "code",
      "source": [],
      "metadata": {
        "id": "6gQlxBwkD92v"
      },
      "execution_count": null,
      "outputs": []
    },
    {
      "cell_type": "code",
      "source": [],
      "metadata": {
        "id": "nfljtK4hD9z1"
      },
      "execution_count": null,
      "outputs": []
    }
  ]
}