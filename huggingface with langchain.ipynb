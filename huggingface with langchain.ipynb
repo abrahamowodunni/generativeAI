{
 "cells": [
  {
   "cell_type": "code",
   "execution_count": 1,
   "id": "ecf05f7d-fe0f-4a68-9a14-c134b10c5e0a",
   "metadata": {},
   "outputs": [],
   "source": [
    "from langchain import PromptTemplate, HuggingFaceHub, LLMChain"
   ]
  },
  {
   "cell_type": "markdown",
   "id": "20acd26b-389f-43ef-b380-df3e352f0311",
   "metadata": {},
   "source": [
    "##### Lets play around with a text2text model"
   ]
  },
  {
   "cell_type": "code",
   "execution_count": 3,
   "id": "a794805e-924b-4f4d-a46b-ac2299c87b72",
   "metadata": {},
   "outputs": [],
   "source": [
    "prompt = PromptTemplate(\n",
    "    input_variables=[\"sport\"],\n",
    "    template= \"Give me a name for a {sport} club, I want to create\"\n",
    ")"
   ]
  },
  {
   "cell_type": "code",
   "execution_count": 4,
   "id": "a61f0428-f975-4cdc-aab6-0ee2426abffc",
   "metadata": {},
   "outputs": [
    {
     "name": "stderr",
     "output_type": "stream",
     "text": [
      "C:\\Users\\mayuo\\anaconda3\\envs\\genAI\\lib\\site-packages\\langchain_core\\_api\\deprecation.py:139: LangChainDeprecationWarning: The class `HuggingFaceHub` was deprecated in LangChain 0.0.21 and will be removed in 0.3.0. An updated version of the class exists in the langchain-huggingface package and should be used instead. To use it run `pip install -U langchain-huggingface` and import as `from langchain_huggingface import HuggingFaceEndpoint`.\n",
      "  warn_deprecated(\n",
      "C:\\Users\\mayuo\\anaconda3\\envs\\genAI\\lib\\site-packages\\langchain_core\\_api\\deprecation.py:139: LangChainDeprecationWarning: The class `LLMChain` was deprecated in LangChain 0.1.17 and will be removed in 1.0. Use RunnableSequence, e.g., `prompt | llm` instead.\n",
      "  warn_deprecated(\n"
     ]
    }
   ],
   "source": [
    "chain = LLMChain(llm=HuggingFaceHub(repo_id='google/flan-t5-base',\n",
    "                                    model_kwargs={'temperature': 0.7})\n",
    "                 ,prompt=prompt)"
   ]
  },
  {
   "cell_type": "code",
   "execution_count": 5,
   "id": "4040c177-3785-46a0-a3f5-0dabcc759974",
   "metadata": {},
   "outputs": [
    {
     "name": "stderr",
     "output_type": "stream",
     "text": [
      "C:\\Users\\mayuo\\anaconda3\\envs\\genAI\\lib\\site-packages\\langchain_core\\_api\\deprecation.py:139: LangChainDeprecationWarning: The method `Chain.run` was deprecated in langchain 0.1.0 and will be removed in 0.3.0. Use invoke instead.\n",
      "  warn_deprecated(\n"
     ]
    },
    {
     "data": {
      "text/plain": [
       "'table tennis club'"
      ]
     },
     "execution_count": 5,
     "metadata": {},
     "output_type": "execute_result"
    }
   ],
   "source": [
    "chain.run('table tennis')"
   ]
  },
  {
   "cell_type": "code",
   "execution_count": 6,
   "id": "d0b7d114-6371-4c92-b9a3-6c08ee61ad71",
   "metadata": {},
   "outputs": [],
   "source": [
    "chain = LLMChain(llm=HuggingFaceHub(repo_id='google/flan-t5-large',\n",
    "                                    model_kwargs={'temperature': 0.7})\n",
    "                 ,prompt=prompt)"
   ]
  },
  {
   "cell_type": "code",
   "execution_count": 7,
   "id": "4a7b22e1-f8e2-4f32-9661-6b960c19a9b4",
   "metadata": {},
   "outputs": [
    {
     "data": {
      "text/plain": [
       "'The Club'"
      ]
     },
     "execution_count": 7,
     "metadata": {},
     "output_type": "execute_result"
    }
   ],
   "source": [
    "chain.run('table tennis')"
   ]
  },
  {
   "cell_type": "code",
   "execution_count": 8,
   "id": "8ea0cfd3-022c-45d8-a71d-0810dd6ba138",
   "metadata": {},
   "outputs": [
    {
     "data": {
      "text/plain": [
       "' Tennis is a racket sport played on a rectangular court, right?'"
      ]
     },
     "execution_count": 8,
     "metadata": {},
     "output_type": "execute_result"
    }
   ],
   "source": [
    "chain = LLMChain(llm=HuggingFaceHub(repo_id='facebook/blenderbot-400M-distill',\n",
    "                                    model_kwargs={'temperature': 0.7})\n",
    "                 ,prompt=prompt)\n",
    "chain.run('table tennis')"
   ]
  },
  {
   "cell_type": "code",
   "execution_count": 2,
   "id": "e78162b1-1a63-4072-adb3-9a066deb2c73",
   "metadata": {},
   "outputs": [],
   "source": [
    "import warnings\n",
    "warnings.filterwarnings(\"ignore\")"
   ]
  },
  {
   "cell_type": "markdown",
   "id": "2b55ebea-a313-4998-8a9f-266c821251ef",
   "metadata": {},
   "source": [
    "### Text Generation Models | Decoder Only Models\n",
    "- So this is why it is super important to know the kind of model you will be picking for the task at hand"
   ]
  },
  {
   "cell_type": "code",
   "execution_count": 1,
   "id": "90dcfda6-baf4-4652-ab78-a093f71308a9",
   "metadata": {},
   "outputs": [],
   "source": [
    "from langchain.llms import HuggingFacePipeline\n",
    "import torch\n",
    "from transformers import AutoTokenizer, AutoModelForCausalLM, pipeline, AutoModelForSeq2SeqLM"
   ]
  },
  {
   "cell_type": "code",
   "execution_count": 3,
   "id": "9a8be2e9-e0b2-4128-b971-5a37e8c351f1",
   "metadata": {},
   "outputs": [],
   "source": [
    "from langchain import PromptTemplate\n",
    "prompt = PromptTemplate(\n",
    "    input_variables = ['name'],\n",
    "    template = \"can you tell me about footballer {name}\"\n",
    ")"
   ]
  },
  {
   "cell_type": "code",
   "execution_count": 12,
   "id": "7d4e621c-52d5-4fea-88f1-0bd568dd1fe3",
   "metadata": {},
   "outputs": [],
   "source": [
    "model_id = 'google/flan-t5-large'"
   ]
  },
  {
   "cell_type": "code",
   "execution_count": 14,
   "id": "45a6af1f-016e-45b2-8d3d-f2b6f71a07e2",
   "metadata": {},
   "outputs": [],
   "source": [
    "tokenizer = AutoTokenizer.from_pretrained(model_id)"
   ]
  },
  {
   "cell_type": "code",
   "execution_count": 18,
   "id": "1498fb35-6c37-4080-973b-f71e8ad73007",
   "metadata": {},
   "outputs": [
    {
     "name": "stderr",
     "output_type": "stream",
     "text": [
      "Some parameters are on the meta device device because they were offloaded to the cpu and disk.\n"
     ]
    }
   ],
   "source": [
    "model = AutoModelForSeq2SeqLM.from_pretrained(model_id,device_map = 'auto')"
   ]
  },
  {
   "cell_type": "code",
   "execution_count": 21,
   "id": "4f6e0fa6-bfa4-4e62-986a-6aec9316bce4",
   "metadata": {},
   "outputs": [],
   "source": [
    "pipeline = pipeline(\"text2text-generation\",\n",
    "                     model = model,\n",
    "                     tokenizer = tokenizer,\n",
    "                     max_length = 128)"
   ]
  },
  {
   "cell_type": "code",
   "execution_count": 22,
   "id": "f0800c53-ef04-44d9-8a3e-77fde03c08bc",
   "metadata": {},
   "outputs": [],
   "source": [
    "local_llm = HuggingFacePipeline(pipeline=pipeline)"
   ]
  },
  {
   "cell_type": "code",
   "execution_count": 24,
   "id": "58ebc0e8-5573-4ccc-a9be-bcc74e46b084",
   "metadata": {},
   "outputs": [],
   "source": [
    "from langchain import LLMChain\n",
    "chain = LLMChain(llm = local_llm,prompt = prompt)"
   ]
  },
  {
   "cell_type": "code",
   "execution_count": 25,
   "id": "49786a8a-e0d6-41c8-a528-1c93dbd04d62",
   "metadata": {},
   "outputs": [
    {
     "data": {
      "text/plain": [
       "'Mbappe is a former footballer who played as a defender.'"
      ]
     },
     "execution_count": 25,
     "metadata": {},
     "output_type": "execute_result"
    }
   ],
   "source": [
    "chain.run('mbappe')"
   ]
  },
  {
   "cell_type": "code",
   "execution_count": 26,
   "id": "72f4fb8d-9cf2-4f93-b5b9-7630a31b6aac",
   "metadata": {},
   "outputs": [
    {
     "data": {
      "text/plain": [
       "'Saka (born May 1, 1992) is a Japanese professional footballer who plays for FC San Marino.'"
      ]
     },
     "execution_count": 26,
     "metadata": {},
     "output_type": "execute_result"
    }
   ],
   "source": [
    "chain.run('saka')"
   ]
  },
  {
   "cell_type": "code",
   "execution_count": null,
   "id": "1d1bfe1e-f47e-4aab-bbe2-206d4f0e51c0",
   "metadata": {},
   "outputs": [],
   "source": []
  },
  {
   "cell_type": "code",
   "execution_count": null,
   "id": "0eecda71-c5a6-442a-8dee-49ffa3b0ffc8",
   "metadata": {},
   "outputs": [],
   "source": []
  },
  {
   "cell_type": "code",
   "execution_count": null,
   "id": "ebe58d35-79b0-4068-af9d-fc232e2ece75",
   "metadata": {},
   "outputs": [],
   "source": []
  },
  {
   "cell_type": "code",
   "execution_count": null,
   "id": "62aa150f-21bb-4d38-b348-667c12fcc8f9",
   "metadata": {},
   "outputs": [],
   "source": []
  },
  {
   "cell_type": "code",
   "execution_count": null,
   "id": "e0bb601e-b50f-4474-958d-14a161d584fe",
   "metadata": {},
   "outputs": [],
   "source": []
  },
  {
   "cell_type": "code",
   "execution_count": null,
   "id": "f7ee9f9e-a62a-434e-9432-34c40f68a34c",
   "metadata": {},
   "outputs": [],
   "source": []
  },
  {
   "cell_type": "code",
   "execution_count": null,
   "id": "21d38757-5884-4ddb-9745-ce648ae218fa",
   "metadata": {},
   "outputs": [],
   "source": []
  },
  {
   "cell_type": "code",
   "execution_count": null,
   "id": "30b82d10-28c5-4bb5-9500-0e8572e17fa8",
   "metadata": {},
   "outputs": [],
   "source": []
  },
  {
   "cell_type": "code",
   "execution_count": null,
   "id": "751afa49-49e7-443a-ab51-686852849fec",
   "metadata": {},
   "outputs": [],
   "source": []
  },
  {
   "cell_type": "code",
   "execution_count": null,
   "id": "a8e80d14-8e83-4268-a274-725d16706ace",
   "metadata": {},
   "outputs": [],
   "source": []
  },
  {
   "cell_type": "code",
   "execution_count": null,
   "id": "f113578a-9e10-4983-a532-0a315fe45055",
   "metadata": {},
   "outputs": [],
   "source": []
  },
  {
   "cell_type": "code",
   "execution_count": null,
   "id": "67f8e3fc-9782-45d5-96c0-d0aa94953193",
   "metadata": {},
   "outputs": [],
   "source": []
  },
  {
   "cell_type": "code",
   "execution_count": null,
   "id": "60b57219-8ae7-4e8f-b774-c1e09ea5abeb",
   "metadata": {},
   "outputs": [],
   "source": []
  },
  {
   "cell_type": "code",
   "execution_count": null,
   "id": "fbff1160-e912-44cd-856b-efb06be107a1",
   "metadata": {},
   "outputs": [],
   "source": []
  },
  {
   "cell_type": "code",
   "execution_count": null,
   "id": "24b26975-1511-4bee-ba12-51187d74856e",
   "metadata": {},
   "outputs": [],
   "source": []
  },
  {
   "cell_type": "code",
   "execution_count": null,
   "id": "0bec7cd2-3866-4d04-b971-42df1576a6ea",
   "metadata": {},
   "outputs": [],
   "source": []
  },
  {
   "cell_type": "code",
   "execution_count": null,
   "id": "1cdee55a-8e9e-4bff-ab0f-7bfb4cd65056",
   "metadata": {},
   "outputs": [],
   "source": []
  },
  {
   "cell_type": "code",
   "execution_count": null,
   "id": "132d01ae-eeb1-45e4-99aa-cfe7c40976aa",
   "metadata": {},
   "outputs": [],
   "source": []
  },
  {
   "cell_type": "code",
   "execution_count": null,
   "id": "1eef3123-72e1-45ac-b70b-edacd3d9d449",
   "metadata": {},
   "outputs": [],
   "source": []
  },
  {
   "cell_type": "code",
   "execution_count": null,
   "id": "c005ff65-7b3f-4fd1-9368-e000604d391f",
   "metadata": {},
   "outputs": [],
   "source": []
  },
  {
   "cell_type": "code",
   "execution_count": null,
   "id": "64075154-7754-42b1-a817-9f11bf35667d",
   "metadata": {},
   "outputs": [],
   "source": []
  },
  {
   "cell_type": "code",
   "execution_count": null,
   "id": "f0d8756b-cc24-4ddb-bc81-ab8ac0446815",
   "metadata": {},
   "outputs": [],
   "source": []
  },
  {
   "cell_type": "code",
   "execution_count": null,
   "id": "2f4d3d0f-962e-4906-9d85-3e0a5d15e52c",
   "metadata": {},
   "outputs": [],
   "source": []
  },
  {
   "cell_type": "code",
   "execution_count": null,
   "id": "fa3e4de1-a566-4c94-ad22-ca8e0dac2931",
   "metadata": {},
   "outputs": [],
   "source": []
  },
  {
   "cell_type": "code",
   "execution_count": null,
   "id": "18fb7f39-dab6-4578-9fd2-a6d61a05e15b",
   "metadata": {},
   "outputs": [],
   "source": []
  },
  {
   "cell_type": "code",
   "execution_count": null,
   "id": "6cd8895b-5ecc-4b61-80c1-5a40d238a6c5",
   "metadata": {},
   "outputs": [],
   "source": []
  },
  {
   "cell_type": "code",
   "execution_count": null,
   "id": "64bd15ff-c920-42c6-90f6-a142b93342eb",
   "metadata": {},
   "outputs": [],
   "source": []
  }
 ],
 "metadata": {
  "kernelspec": {
   "display_name": "Python 3 (ipykernel)",
   "language": "python",
   "name": "python3"
  },
  "language_info": {
   "codemirror_mode": {
    "name": "ipython",
    "version": 3
   },
   "file_extension": ".py",
   "mimetype": "text/x-python",
   "name": "python",
   "nbconvert_exporter": "python",
   "pygments_lexer": "ipython3",
   "version": "3.9.0"
  }
 },
 "nbformat": 4,
 "nbformat_minor": 5
}
