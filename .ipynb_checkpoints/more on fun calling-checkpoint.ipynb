{
 "cells": [
  {
   "cell_type": "markdown",
   "id": "c03b3650-5e70-47f9-8144-c8a2abf81c6f",
   "metadata": {},
   "source": [
    "##### How real-time questions can be solved. \n",
    "- We can create our own API. \n",
    "- We can extarnal API aswell. "
   ]
  },
  {
   "cell_type": "code",
   "execution_count": 2,
   "id": "6d157930-675e-4bd5-860e-f74d58fb5b56",
   "metadata": {},
   "outputs": [],
   "source": [
    "from openai import OpenAI\n",
    "client = OpenAI(api_key=my_key)"
   ]
  },
  {
   "cell_type": "code",
   "execution_count": 5,
   "id": "b65255a4-6b2d-4075-ba4d-843466aeed15",
   "metadata": {},
   "outputs": [],
   "source": [
    "prompt = \"When's the next flight from lagos to navada?\""
   ]
  },
  {
   "cell_type": "code",
   "execution_count": 6,
   "id": "f4bdffc5-e229-4ac5-9cdb-302391fe7588",
   "metadata": {},
   "outputs": [],
   "source": [
    "response = client.chat.completions.create(\n",
    "    model= \"gpt-3.5-turbo\",\n",
    "    messages=[{'role':'user','content':prompt}]\n",
    ")"
   ]
  },
  {
   "cell_type": "code",
   "execution_count": 8,
   "id": "8413226d-cfbc-468d-a714-c0fbafa9de16",
   "metadata": {},
   "outputs": [
    {
     "data": {
      "text/plain": [
       "\"I'm sorry, but I am unable to provide real-time flight information. It is recommended to check with airlines or online flight booking platforms for the most up-to-date flight schedules and availability.\""
      ]
     },
     "execution_count": 8,
     "metadata": {},
     "output_type": "execute_result"
    }
   ],
   "source": [
    "response.choices[0].message.content"
   ]
  },
  {
   "cell_type": "markdown",
   "id": "9e37e534-1a01-4c5e-8312-a216dd875f8b",
   "metadata": {},
   "source": [
    "### Observations:\n",
    "It's evident that the model:\n",
    "- Does not have access to real-time information.\n",
    "- Was trained on data up to 2021, which limits its ability to provide current information.\n",
    "\n",
    "### Thoughts:\n",
    "- Even if the model had information on flights, it cannot access or provide real-time data on constantly changing content.\n",
    "- Integrating an external API can significantly enhance the functionality of the dialogue system, providing a more dynamic and user-friendly experience.\n",
    "\n",
    "### Benefits of Using External APIs:\n",
    "- Access to real-time data (e.g., flight information, weather updates, stock prices).\n",
    "- Enhanced user interactions by providing up-to-date and relevant information.\n",
    "- Expansion of functionalities, allowing for more complex and informative responses.\n",
    "\n",
    "### Example Use Case:\n",
    "Integrating a flight information API can help provide users with real-time updates on flight schedules, availability, and other relevant details, thereby improving the overall user experience.\n",
    "\n",
    "### Future Implementation:\n",
    "Consider implementing an external API to handle requests that require real-time data, and integrate the responses into the dialogue system for a seamless user experience.\n"
   ]
  },
  {
   "cell_type": "markdown",
   "id": "39b6b8ed-640b-41c2-bbca-d5ad74ad1a7a",
   "metadata": {},
   "source": [
    "========================================================================================="
   ]
  },
  {
   "cell_type": "code",
   "execution_count": 9,
   "id": "326b0855-ff04-40a6-ad08-85580c789394",
   "metadata": {},
   "outputs": [],
   "source": [
    "function_description = [\n",
    "    {\n",
    "        'name': \"get_flight_info\",\n",
    "        'description': \"Get flight information between two locations\",\n",
    "        'parameters': {\n",
    "            'type': 'object',\n",
    "            'properties': {\n",
    "                'loc_orign': {\n",
    "                    'type': 'string',\n",
    "                    'description': \"The departure airport, e.g NOR\"\n",
    "                },\n",
    "                'loc_destination': {\n",
    "                    'type': 'string',\n",
    "                    'description': \"The destination airport, e.g BEL\"\n",
    "                },\n",
    "            },\n",
    "            \"required\": [\"loc_orign\", \"loc_destination\"]\n",
    "        },\n",
    "    }\n",
    "]"
   ]
  },
  {
   "cell_type": "code",
   "execution_count": 10,
   "id": "97763ad5-8ee2-40e0-b1f0-69301c11f91f",
   "metadata": {},
   "outputs": [],
   "source": [
    "response2 = client.chat.completions.create(\n",
    "    model= \"gpt-3.5-turbo\",\n",
    "    messages=[{'role':'user','content':prompt}],\n",
    "    # this time i will be passing a function. \n",
    "    functions=function_description\n",
    ")"
   ]
  },
  {
   "cell_type": "code",
   "execution_count": 12,
   "id": "2151e9a3-c5ad-4f8f-ac6d-70dc84f93cc6",
   "metadata": {},
   "outputs": [
    {
     "data": {
      "text/plain": [
       "ChatCompletionMessage(content=None, role='assistant', function_call=FunctionCall(arguments='{\"loc_orign\":\"LOS\",\"loc_destination\":\"NVA\"}', name='get_flight_info'), tool_calls=None)"
      ]
     },
     "execution_count": 12,
     "metadata": {},
     "output_type": "execute_result"
    }
   ],
   "source": [
    "response2.choices[0].message"
   ]
  },
  {
   "cell_type": "code",
   "execution_count": 13,
   "id": "e9f2385e-a8f0-48fb-9f73-46b23794477a",
   "metadata": {},
   "outputs": [
    {
     "data": {
      "text/plain": [
       "'{\"loc_orign\":\"LOS\",\"loc_destination\":\"NVA\"}'"
      ]
     },
     "execution_count": 13,
     "metadata": {},
     "output_type": "execute_result"
    }
   ],
   "source": [
    "response2.choices[0].message.function_call.arguments"
   ]
  },
  {
   "cell_type": "markdown",
   "id": "f3750915-83b5-4e66-b121-48ccd1a550a1",
   "metadata": {},
   "source": [
    "Beautiful it was able to extract something from out function at list but we did not have a response. "
   ]
  },
  {
   "cell_type": "code",
   "execution_count": 21,
   "id": "b51aaee0-365b-4ab7-8de2-ef82d710b21f",
   "metadata": {},
   "outputs": [],
   "source": [
    "### lets create a random function to help. \n",
    "from datetime import datetime, timedelta\n",
    "import json\n",
    "\n",
    "def get_flight_info(loc_orign, loc_destination):\n",
    "\n",
    "    flight_into = {\n",
    "        'loc_orign': loc_orign,\n",
    "        'loc_destination': loc_destination,\n",
    "        'datetime': str(datetime.now() + timedelta(hours = 2)),\n",
    "        'airline': \"Britsh Airways\",\n",
    "        'flight': \"BA678\"\n",
    "    }\n",
    "    return json.dumps(flight_into)"
   ]
  },
  {
   "cell_type": "code",
   "execution_count": 22,
   "id": "2cfd476f-6eed-499b-a725-63ad6cf2d7f0",
   "metadata": {},
   "outputs": [],
   "source": [
    "# we are collecting it this way so we see later on\n",
    "params = json.loads(response2.choices[0].message.function_call.arguments)"
   ]
  },
  {
   "cell_type": "code",
   "execution_count": 23,
   "id": "d287b029-b621-4e75-9896-bd5b2a6d4b36",
   "metadata": {},
   "outputs": [],
   "source": [
    "# this way i am actually getting what the true function is.\n",
    "chosen_function = eval(response2.choices[0].message.function_call.name)"
   ]
  },
  {
   "cell_type": "code",
   "execution_count": 24,
   "id": "bbb0e5ab-1d1b-4ec8-937f-46a6f15606ff",
   "metadata": {},
   "outputs": [
    {
     "data": {
      "text/plain": [
       "'{\"loc_orign\": \"LOS\", \"loc_destination\": \"NVA\", \"datetime\": \"2024-07-28 21:02:06.192764\", \"airline\": \"Britsh Airways\", \"flight\": \"BA678\"}'"
      ]
     },
     "execution_count": 24,
     "metadata": {},
     "output_type": "execute_result"
    }
   ],
   "source": [
    "flight = chosen_function(**params)\n",
    "\n",
    "flight "
   ]
  },
  {
   "cell_type": "code",
   "execution_count": 25,
   "id": "55d1c679-0cfa-4272-b104-fa4e74fcfdb3",
   "metadata": {},
   "outputs": [],
   "source": [
    "response3 = client.chat.completions.create(\n",
    "    model= \"gpt-3.5-turbo\",\n",
    "    messages=[\n",
    "        {'role': 'user','content':prompt},\n",
    "        {'role': 'function', 'name': response2.choices[0].message.function_call.name,\n",
    "            'content':flight}\n",
    "             ],\n",
    "    # this time i will be passing a function. \n",
    "    functions=function_description\n",
    ")"
   ]
  },
  {
   "cell_type": "code",
   "execution_count": 27,
   "id": "45c70834-75f0-4a6e-95c5-9e4ab9fbb930",
   "metadata": {},
   "outputs": [
    {
     "data": {
      "text/plain": [
       "'The next flight from Lagos (LOS) to Navada (NVA) is scheduled for July 28, 2024. The airline is British Airways and the flight number is BA678.'"
      ]
     },
     "execution_count": 27,
     "metadata": {},
     "output_type": "execute_result"
    }
   ],
   "source": [
    "response3.choices[0].message.content"
   ]
  }
 ],
 "metadata": {
  "kernelspec": {
   "display_name": "Python 3 (ipykernel)",
   "language": "python",
   "name": "python3"
  },
  "language_info": {
   "codemirror_mode": {
    "name": "ipython",
    "version": 3
   },
   "file_extension": ".py",
   "mimetype": "text/x-python",
   "name": "python",
   "nbconvert_exporter": "python",
   "pygments_lexer": "ipython3",
   "version": "3.9.0"
  }
 },
 "nbformat": 4,
 "nbformat_minor": 5
}
