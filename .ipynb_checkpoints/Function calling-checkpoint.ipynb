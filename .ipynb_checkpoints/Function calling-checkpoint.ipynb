{
 "cells": [
  {
   "cell_type": "code",
   "execution_count": 1,
   "id": "06df9c27-dd76-4838-95f5-f6398ab422c1",
   "metadata": {},
   "outputs": [],
   "source": [
    "import langchain"
   ]
  },
  {
   "cell_type": "markdown",
   "id": "dbb83adc-8a40-4dfa-bd5e-135997f5af71",
   "metadata": {},
   "source": [
    "##### Function calling. \n",
    "- Basically this helps us go beyond just text generation. We can now \"format\" the kind of output that we desire based on the task.\n",
    "- dynamic retrival information. "
   ]
  },
  {
   "cell_type": "code",
   "execution_count": 3,
   "id": "0dd878f3-62f3-45da-946b-674fa7c40199",
   "metadata": {},
   "outputs": [],
   "source": [
    "ceo_description = \"Jane Doe, CEO of Tech Innovations Inc., has driven remarkable growth, increasing annual revenue by 50% over three years, launching industry-standard products, and expanding into five new international markets. She has also championed sustainability, significantly reducing the company's carbon footprint. Jane earns an annual salary of $2 million, with additional performance-based bonuses and stock options.\""
   ]
  },
  {
   "cell_type": "markdown",
   "id": "91be4656-ff5c-4cdc-9483-d7896f832e4e",
   "metadata": {},
   "source": [
    "# Few-Shot Prompting for Information Extraction\n",
    "\n",
    "## Overview\n",
    "\n",
    "In this notebook, we explore how to use few-shot prompting with OpenAI's language models to extract specific pieces of information from a given text. Few-shot prompting helps guide the model to format its responses according to predefined criteria.\n",
    "\n",
    "## Implementation\n",
    "\n",
    "### Prompt Construction\n",
    "\n",
    "We constructed a prompt that specifies the information to be extracted and provides the input text. Here’s an example of the prompt used:"
   ]
  },
  {
   "cell_type": "code",
   "execution_count": 13,
   "id": "e1db0c28-1bd4-4be8-aa7e-17fc06219e5c",
   "metadata": {},
   "outputs": [],
   "source": [
    "prompt = f'''\n",
    "Please extract the following information from the given text and return it as a JSON object:\n",
    "\n",
    "name\n",
    "company\n",
    "Salary\n",
    "\n",
    "This is the body of text to extract the information from:\n",
    "{ceo_description}\n",
    "'''"
   ]
  },
  {
   "cell_type": "code",
   "execution_count": 14,
   "id": "2e2a9c96-a0ea-4b7f-b95b-1611696494bf",
   "metadata": {},
   "outputs": [
    {
     "data": {
      "text/plain": [
       "\"\\nPlease extract the following information from the given text and return it as a JSON object:\\n\\nname\\ncompany\\nSalary\\n\\nThis is the body of text to extract the information from:\\nJane Doe, CEO of Tech Innovations Inc., has driven remarkable growth, increasing annual revenue by 50% over three years, launching industry-standard products, and expanding into five new international markets. She has also championed sustainability, significantly reducing the company's carbon footprint. Jane earns an annual salary of $2 million, with additional performance-based bonuses and stock options.\\n\""
      ]
     },
     "execution_count": 14,
     "metadata": {},
     "output_type": "execute_result"
    }
   ],
   "source": [
    "prompt"
   ]
  },
  {
   "cell_type": "code",
   "execution_count": 15,
   "id": "687e6664-81a6-4d3c-badf-bd6e6483d421",
   "metadata": {},
   "outputs": [],
   "source": [
    "from openai import OpenAI\n",
    "client = OpenAI(api_key=my_key)"
   ]
  },
  {
   "cell_type": "code",
   "execution_count": 16,
   "id": "458ea15c-272b-42fa-afb7-cb21c76ad0c8",
   "metadata": {},
   "outputs": [],
   "source": [
    "response = client.chat.completions.create(\n",
    "  model=\"gpt-3.5-turbo\",\n",
    "  messages=[\n",
    "    {\n",
    "      \"role\": \"user\",\n",
    "      \"content\": prompt\n",
    "    }\n",
    "  ]\n",
    ")"
   ]
  },
  {
   "cell_type": "code",
   "execution_count": 17,
   "id": "05d709a8-28e6-41ec-a5eb-0a1833bc68cf",
   "metadata": {},
   "outputs": [
    {
     "data": {
      "text/plain": [
       "'{\\n  \"name\": \"Jane Doe\",\\n  \"company\": \"Tech Innovations Inc.\",\\n  \"Salary\": \"$2 million\"\\n}'"
      ]
     },
     "execution_count": 17,
     "metadata": {},
     "output_type": "execute_result"
    }
   ],
   "source": [
    "response.choices[0].message.content"
   ]
  },
  {
   "cell_type": "code",
   "execution_count": 18,
   "id": "5bbc6dcb-2550-448a-b823-6c7e97e8712a",
   "metadata": {},
   "outputs": [],
   "source": [
    "output = response.choices[0].message.content"
   ]
  },
  {
   "cell_type": "code",
   "execution_count": 19,
   "id": "69bdfa0b-bac1-493f-877c-09c88de2201f",
   "metadata": {},
   "outputs": [
    {
     "data": {
      "text/plain": [
       "{'name': 'Jane Doe',\n",
       " 'company': 'Tech Innovations Inc.',\n",
       " 'Salary': '$2 million'}"
      ]
     },
     "execution_count": 19,
     "metadata": {},
     "output_type": "execute_result"
    }
   ],
   "source": [
    "import json\n",
    "json.loads(output)"
   ]
  },
  {
   "cell_type": "markdown",
   "id": "2cf3263d-c10c-4cb1-bb62-58a69b388f07",
   "metadata": {},
   "source": [
    "So basically this way I can be efficient with how I spend on OpenAI ;). This is just a small case of how \"my company\" can have a system when they just extract information from a document. "
   ]
  },
  {
   "cell_type": "markdown",
   "id": "fc4fd95f-5426-4c39-b5ca-405e8c350bd1",
   "metadata": {},
   "source": [
    "#### Lets define a function.\n",
    "\n",
    "The structure can be gotten from openAI website: https://cookbook.openai.com/examples/how_to_call_functions_with_chat_models"
   ]
  },
  {
   "cell_type": "code",
   "execution_count": 32,
   "id": "bfb615b2-317c-412a-9695-7d69de313b6a",
   "metadata": {},
   "outputs": [],
   "source": [
    "ceo_custom_function = [\n",
    "    {\n",
    "        'name': \"extract_ceo_info\",\n",
    "        'description': \"Get the CEO information from the input documentation\",\n",
    "        'parameters': {\n",
    "            'type': 'object',\n",
    "            'properties': {\n",
    "                'name': {\n",
    "                    'type': 'string',\n",
    "                    'description': \"Name of the CEO.\"\n",
    "                },\n",
    "                'company': {\n",
    "                    'type': 'string',\n",
    "                    'description': \"The company the CEO works for.\"\n",
    "                },\n",
    "                'salary': {\n",
    "                    'type': 'string',\n",
    "                    'description': \"How much the CEO earns.\"\n",
    "                }\n",
    "            },\n",
    "            \"required\": [\"name\", \"company\", \"salary\"]\n",
    "        }\n",
    "    }\n",
    "]"
   ]
  },
  {
   "cell_type": "code",
   "execution_count": 33,
   "id": "e128a62e-ac07-412c-a727-9a0a4a3f7eac",
   "metadata": {},
   "outputs": [],
   "source": [
    "response2 = client.chat.completions.create(\n",
    "  model=\"gpt-3.5-turbo\",\n",
    "  messages=[{\"role\": \"user\",\"content\": prompt}],\n",
    "  functions= ceo_custom_function\n",
    ")"
   ]
  },
  {
   "cell_type": "code",
   "execution_count": 34,
   "id": "e557dd8f-166f-4250-a21c-1cc48c7ca3af",
   "metadata": {},
   "outputs": [
    {
     "data": {
      "text/plain": [
       "ChatCompletion(id='chatcmpl-9q8LKwAuwoGBWEZhawPgUn2O7nYrg', choices=[Choice(finish_reason='function_call', index=0, logprobs=None, message=ChatCompletionMessage(content=None, role='assistant', function_call=FunctionCall(arguments='{\"name\":\"Jane Doe\",\"company\":\"Tech Innovations Inc.\",\"salary\":\"$2 million\"}', name='extract_ceo_info'), tool_calls=None))], created=1722212154, model='gpt-3.5-turbo-0125', object='chat.completion', service_tier=None, system_fingerprint=None, usage=CompletionUsage(completion_tokens=30, prompt_tokens=188, total_tokens=218))"
      ]
     },
     "execution_count": 34,
     "metadata": {},
     "output_type": "execute_result"
    }
   ],
   "source": [
    "response2"
   ]
  },
  {
   "cell_type": "code",
   "execution_count": 35,
   "id": "0437a8a3-d287-4ae0-9d88-052b668d6202",
   "metadata": {},
   "outputs": [
    {
     "data": {
      "text/plain": [
       "ChatCompletionMessage(content=None, role='assistant', function_call=FunctionCall(arguments='{\"name\":\"Jane Doe\",\"company\":\"Tech Innovations Inc.\",\"salary\":\"$2 million\"}', name='extract_ceo_info'), tool_calls=None)"
      ]
     },
     "execution_count": 35,
     "metadata": {},
     "output_type": "execute_result"
    }
   ],
   "source": [
    "response2.choices[0].message"
   ]
  },
  {
   "cell_type": "code",
   "execution_count": 36,
   "id": "11dd6a17-11b7-4252-af58-0f091af40fa7",
   "metadata": {},
   "outputs": [],
   "source": [
    "output2 = response2.choices[0].message.function_call.arguments"
   ]
  },
  {
   "cell_type": "code",
   "execution_count": 37,
   "id": "1c223775-2000-4735-b71b-67e8aeefb0b1",
   "metadata": {},
   "outputs": [
    {
     "data": {
      "text/plain": [
       "{'name': 'Jane Doe',\n",
       " 'company': 'Tech Innovations Inc.',\n",
       " 'salary': '$2 million'}"
      ]
     },
     "execution_count": 37,
     "metadata": {},
     "output_type": "execute_result"
    }
   ],
   "source": [
    "json.loads(output2)"
   ]
  },
  {
   "cell_type": "markdown",
   "id": "ff26cb55-0d2c-45bc-9035-22842d8c0d13",
   "metadata": {},
   "source": [
    "#### Advance use of a function call. "
   ]
  },
  {
   "cell_type": "code",
   "execution_count": 114,
   "id": "0a34ddef-0e48-444f-84e7-b0f219a0f3d0",
   "metadata": {},
   "outputs": [],
   "source": [
    "ceo_description_1 = \"Jane Doe, CEO of Tech Innovations Inc., has driven remarkable growth, increasing annual revenue by 50% over three years, launching industry-standard products, and expanding into five new international markets. She has also championed sustainability, significantly reducing the company's carbon footprint. Jane earns an annual salary of $2 million, with additional performance-based bonuses and stock options.\"\n",
    "ceo_description_2 = \"John Smith earns an annual salary of $2.5 million, complemented by performance bonuses and stock options. As CEO of Global Solutions Ltd., he has driven a 60% increase in annual revenue over the past four years, spearheaded the introduction of groundbreaking technologies, and expanded the company into seven new global markets. John has also emphasized employee well-being by launching innovative health and wellness programs\""
   ]
  },
  {
   "cell_type": "code",
   "execution_count": 115,
   "id": "f0c3820c-907b-4c14-b921-e76ec029e6de",
   "metadata": {},
   "outputs": [],
   "source": [
    "ceo_infos = [ceo_description_1, ceo_description_2]"
   ]
  },
  {
   "cell_type": "code",
   "execution_count": 117,
   "id": "8e005950-7916-4b5b-a6e7-c335fb4ff00f",
   "metadata": {},
   "outputs": [
    {
     "name": "stdout",
     "output_type": "stream",
     "text": [
      "{'name': 'Jane Doe', 'company': 'Tech Innovations Inc.', 'salary': '$2 million'}\n",
      "{'name': 'John Smith', 'company': 'Global Solutions Ltd.', 'salary': '$2.5 million'}\n"
     ]
    }
   ],
   "source": [
    "for ceo in ceo_infos:\n",
    "    response = client.chat.completions.create(\n",
    "        model=\"gpt-3.5-turbo\",\n",
    "        messages=[{\"role\": \"user\",\"content\": ceo}],\n",
    "        functions= ceo_custom_function,\n",
    "        function_call ='auto'\n",
    "    )\n",
    "\n",
    "    response = json.loads(response.choices[0].message.function_call.arguments)\n",
    "    print(response)          "
   ]
  },
  {
   "cell_type": "markdown",
   "id": "418d5c03-554a-4f22-8a40-962c8f964da4",
   "metadata": {},
   "source": [
    "#### Using multipul functions. "
   ]
  },
  {
   "cell_type": "code",
   "execution_count": 118,
   "id": "045c897d-3c53-430b-a6a8-ca78a40d9dcc",
   "metadata": {},
   "outputs": [],
   "source": [
    "ceo_info = [\n",
    "    {\n",
    "        'name': \"extract_ceo_info\",\n",
    "        'description': \"Get the CEO information from the input documentation\",\n",
    "        'parameters': {\n",
    "            'type': 'object',\n",
    "            'properties': {\n",
    "                'name': {\n",
    "                    'type': 'string',\n",
    "                    'description': \"Name of the CEO.\"\n",
    "                },\n",
    "                'company': {\n",
    "                    'type': 'string',\n",
    "                    'description': \"The company the CEO works for.\"\n",
    "                },\n",
    "                'salary': {\n",
    "                    'type': 'string',\n",
    "                    'description': \"How much the CEO earns.\"\n",
    "                }\n",
    "            },\n",
    "            \"required\": [\"name\", \"company\", \"salary\"]\n",
    "        }\n",
    "    }\n",
    "]\n",
    "\n",
    "ceo_achivement = [\n",
    "    {\n",
    "        'name': \"extract_ceo_achievement\",\n",
    "        'description': \"Get the CEO achievement from the input documentation\",\n",
    "        'parameters': {\n",
    "            'type': 'object',\n",
    "            'properties': {\n",
    "                'revenue': {\n",
    "                    'type': 'integer',\n",
    "                    'description': \"By what percentage was revenue increased\"\n",
    "                },\n",
    "                'achievement': {\n",
    "                    'type': 'string',\n",
    "                    'description': \"What was the CEO achievement in short\"\n",
    "                }\n",
    "            },\n",
    "            \"required\": [\"revenue\", \"achievement\"]\n",
    "        }\n",
    "    }\n",
    "]"
   ]
  },
  {
   "cell_type": "code",
   "execution_count": 145,
   "id": "9d382df0-40ff-4f50-80f7-c9f0a31a7fe2",
   "metadata": {},
   "outputs": [],
   "source": [
    "functions = [ceo_achivement[0],ceo_info[0]]"
   ]
  },
  {
   "cell_type": "code",
   "execution_count": 151,
   "id": "d2c1cb21-028b-4c5b-9165-c4741622f411",
   "metadata": {},
   "outputs": [
    {
     "name": "stdout",
     "output_type": "stream",
     "text": [
      "{'name': 'Jane Doe', 'company': 'Tech Innovations Inc.', 'salary': '$2 million'}\n",
      "{'name': 'John Smith', 'company': 'Global Solutions Ltd.', 'salary': '$2.5 million'}\n"
     ]
    }
   ],
   "source": [
    "for ceo in ceo_infos:\n",
    "    response = client.chat.completions.create(\n",
    "        model=\"gpt-3.5-turbo\",\n",
    "        messages=[{\"role\": \"user\",\"content\": ceo}],\n",
    "        functions= functions,\n",
    "        function_call ='auto'\n",
    "    )\n",
    "\n",
    "    response = json.loads(response.choices[0].message.function_call.arguments)\n",
    "    print(response)       "
   ]
  },
  {
   "cell_type": "markdown",
   "id": "4f4d6849-1d11-4017-8b1f-e6347fbd9774",
   "metadata": {},
   "source": [
    "#### LLMs limitation with real-time solutions\n",
    "- So LLMs can't extract the info about real time qestion but with function calling this can be achieved"
   ]
  }
 ],
 "metadata": {
  "kernelspec": {
   "display_name": "Python 3 (ipykernel)",
   "language": "python",
   "name": "python3"
  },
  "language_info": {
   "codemirror_mode": {
    "name": "ipython",
    "version": 3
   },
   "file_extension": ".py",
   "mimetype": "text/x-python",
   "name": "python",
   "nbconvert_exporter": "python",
   "pygments_lexer": "ipython3",
   "version": "3.9.0"
  }
 },
 "nbformat": 4,
 "nbformat_minor": 5
}
