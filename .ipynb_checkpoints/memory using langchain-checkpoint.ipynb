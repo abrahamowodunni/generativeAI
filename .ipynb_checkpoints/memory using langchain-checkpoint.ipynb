{
 "cells": [
  {
   "cell_type": "code",
   "execution_count": 2,
   "id": "0fd21539-730d-4d59-bf29-e7ebe48d1e1c",
   "metadata": {},
   "outputs": [],
   "source": [
    "import langchain"
   ]
  },
  {
   "cell_type": "code",
   "execution_count": 3,
   "id": "8eb13d9c-6173-4bab-bdd4-3225bb825418",
   "metadata": {},
   "outputs": [],
   "source": [
    "from langchain_openai import OpenAI\n",
    "client = OpenAI(api_key = my_key)"
   ]
  },
  {
   "cell_type": "markdown",
   "id": "9dcc2934-6505-495d-ba15-93b5c26e4413",
   "metadata": {},
   "source": [
    "# Implementing Memory in LangChain\n",
    "\n",
    "## Overview\n",
    "\n",
    "Memory in LangChain allows the system to remember previous interactions and maintain context across multiple exchanges. This is crucial for applications like chatbots, virtual assistants, or any scenario where maintaining the state and context of the conversation is important.\n",
    "\n",
    "## How Memory Works\n",
    "\n",
    "Memory in LangChain involves storing and retrieving information about past interactions, including:\n",
    "\n",
    "- **Conversation History**: Keeping a log of past messages and interactions.\n",
    "- **Contextual Information**: Storing data that provides context for current and future interactions (e.g., user preferences, previous questions and answers).\n",
    "- **Dynamic Updates**: Updating stored information based on new interactions or information received.\n",
    "\n",
    "## Types of Memory\n",
    "\n",
    "LangChain can implement various types of memory mechanisms:\n",
    "\n",
    "1. **Short-Term Memory**: Retains information for the duration of a single session or a limited number of interactions.\n",
    "2. **Long-Term Memory**: Stores information across multiple sessions, enabling the system to remember user-specific details over extended periods.\n",
    "\n",
    "## Implementing Memory\n",
    "\n",
    "### 1. Define the Memory Storage\n",
    "\n",
    "Decide how and where to store the memory (e.g., in-memory storage for short-term memory or a database for long-term memory).\n",
    "\n",
    "### 2. Implement Memory Components\n",
    "\n",
    "Create components that handle storing, retrieving, and updating memory. LangChain provides utilities to help with this.\n",
    "\n",
    "### 3. Integrate Memory with Chains and Agents\n",
    "\n",
    "Ensure that the memory components are integrated into the workflow of your chains and agents so that they can access and update memory as needed.\n",
    "\n",
    "## Example Implementation\n",
    "\n",
    "Here's a simple example of implementing memory in LangChain using a basic in-memory storage mechanism:\n",
    "\n",
    "```python\n",
    "from langchain import ConversationChain\n",
    "from langchain.memory import ConversationBufferMemory\n",
    "from langchain.llms import OpenAI\n",
    "\n",
    "# Define the memory component\n",
    "memory = ConversationBufferMemory()\n",
    "\n",
    "# Create a conversation chain with memory\n",
    "conversation = ConversationChain(\n",
    "    llm=OpenAI(api_key=\"your_openai_api_key\"),\n",
    "    memory=memory\n",
    ")\n",
    "\n",
    "# Simulate a conversation\n",
    "response = conversation.predict(input=\"Hello, who won the world series in 2020?\")\n",
    "print(response)\n",
    "\n",
    "response = conversation.predict(input=\"Who was the MVP?\")\n",
    "print(response)\n",
    "```\n",
    "### Explanation\n",
    "\n",
    "- **Memory Component**: `ConversationBufferMemory` is used to store the conversation history in memory.\n",
    "- **Conversation Chain**: A `ConversationChain` is created with an LLM (e.g., OpenAI) and the memory component.\n",
    "- **Predict Method**: The `predict` method is used to interact with the conversation chain, which automatically utilizes the memory to maintain context.\n",
    "\n",
    "### Advanced Memory Implementation\n",
    "\n",
    "For more advanced use cases, you might want to implement custom memory components or integrate with external databases. Here’s a conceptual example:\n",
    "\n",
    "```python\n",
    "from langchain.memory import BaseMemory\n",
    "\n",
    "class CustomMemory(BaseMemory):\n",
    "    def __init__(self):\n",
    "        self.memory_store = {}\n",
    "\n",
    "    def load_memory(self, key):\n",
    "        return self.memory_store.get(key, \"\")\n",
    "\n",
    "    def save_memory(self, key, value):\n",
    "        self.memory_store[key] = value\n",
    "\n",
    "    def clear_memory(self):\n",
    "        self.memory_store.clear()\n",
    "\n",
    "# Usage with a conversation chain\n",
    "memory = CustomMemory()\n",
    "conversation = ConversationChain(\n",
    "    llm=OpenAI(api_key=\"your_openai_api_key\"),\n",
    "    memory=memory\n",
    ")\n",
    "```"
   ]
  },
  {
   "cell_type": "code",
   "execution_count": 4,
   "id": "a2ac7643-6a3e-4470-a399-50994d69366e",
   "metadata": {},
   "outputs": [],
   "source": [
    "from langchain.prompts import PromptTemplate\n",
    "from langchain.chains import LLMChain\n",
    "from langchain_openai import OpenAI"
   ]
  },
  {
   "cell_type": "code",
   "execution_count": 5,
   "id": "9230faf8-e844-4e74-9ef6-b0a419d6a59f",
   "metadata": {},
   "outputs": [
    {
     "name": "stderr",
     "output_type": "stream",
     "text": [
      "C:\\Users\\mayuo\\anaconda3\\envs\\genAI\\lib\\site-packages\\langchain_core\\_api\\deprecation.py:139: LangChainDeprecationWarning: The class `LLMChain` was deprecated in LangChain 0.1.17 and will be removed in 1.0. Use RunnableSequence, e.g., `prompt | llm` instead.\n",
      "  warn_deprecated(\n"
     ]
    }
   ],
   "source": [
    "prompt = PromptTemplate(\n",
    "    input_variables= ['sport'],\n",
    "    template= \"who are the top 3 best manager in {sport}\"\n",
    ")\n",
    "\n",
    "chain = LLMChain(llm=client,prompt=prompt)"
   ]
  },
  {
   "cell_type": "code",
   "execution_count": 7,
   "id": "d524a42c-1e6f-4114-a664-505def9accd3",
   "metadata": {},
   "outputs": [],
   "source": [
    "chain.memory"
   ]
  },
  {
   "cell_type": "code",
   "execution_count": 8,
   "id": "22cb9c36-d0b0-4b18-80fe-94e470091ca1",
   "metadata": {},
   "outputs": [
    {
     "data": {
      "text/plain": [
       "NoneType"
      ]
     },
     "execution_count": 8,
     "metadata": {},
     "output_type": "execute_result"
    }
   ],
   "source": [
    "type(chain.memory)"
   ]
  },
  {
   "cell_type": "code",
   "execution_count": 9,
   "id": "fdaa7dd1-c964-44b3-ae2e-bc26e1a1b49d",
   "metadata": {},
   "outputs": [],
   "source": [
    "from langchain.memory import ConversationBufferMemory"
   ]
  },
  {
   "cell_type": "code",
   "execution_count": 10,
   "id": "b5dc7227-d6d8-443f-960d-586ba9545a19",
   "metadata": {},
   "outputs": [],
   "source": [
    "memory = ConversationBufferMemory()"
   ]
  },
  {
   "cell_type": "code",
   "execution_count": 11,
   "id": "2c354c53-3334-4062-adcc-0bbff3d231b0",
   "metadata": {},
   "outputs": [],
   "source": [
    "prompt = PromptTemplate(\n",
    "    input_variables= ['sport'],\n",
    "    template= \"who are the top 3 best manager in {sport}\"\n",
    ")\n",
    "\n",
    "chain = LLMChain(llm=client,prompt=prompt,memory=memory)"
   ]
  },
  {
   "cell_type": "code",
   "execution_count": 12,
   "id": "b39d271f-2a48-4924-a56b-8af71ea5fd5c",
   "metadata": {},
   "outputs": [
    {
     "name": "stdout",
     "output_type": "stream",
     "text": [
      "\n",
      "\n",
      "1. Pep Guardiola\n",
      "2. Sir Alex Ferguson\n",
      "3. Jose Mourinho\n"
     ]
    }
   ],
   "source": [
    "print(chain.run(\"football\"))"
   ]
  },
  {
   "cell_type": "code",
   "execution_count": 13,
   "id": "7291bb13-40ba-4bd0-bbeb-68e48beca150",
   "metadata": {},
   "outputs": [
    {
     "name": "stdout",
     "output_type": "stream",
     "text": [
      "\n",
      "\n",
      "1. Gregg Popovich - San Antonio Spurs\n",
      "2. Phil Jackson - Chicago Bulls, Los Angeles Lakers\n",
      "3. Pat Riley - Los Angeles Lakers, Miami Heat\n"
     ]
    }
   ],
   "source": [
    "print(chain.run(\"basketball\"))"
   ]
  },
  {
   "cell_type": "code",
   "execution_count": 14,
   "id": "c6996c77-09c5-49b9-8175-584aec10fdb3",
   "metadata": {},
   "outputs": [
    {
     "name": "stdout",
     "output_type": "stream",
     "text": [
      "\n",
      "\n",
      "1. Joe Maddon (Chicago Cubs)\n",
      "2. Terry Francona (Cleveland Indians)\n",
      "3. Bruce Bochy (San Francisco Giants)\n"
     ]
    }
   ],
   "source": [
    "print(chain.run(\"baseball\"))"
   ]
  },
  {
   "cell_type": "code",
   "execution_count": 15,
   "id": "e17463e9-3535-48cc-bf67-6a32f15e4a32",
   "metadata": {},
   "outputs": [
    {
     "data": {
      "text/plain": [
       "ConversationBufferMemory(chat_memory=InMemoryChatMessageHistory(messages=[HumanMessage(content='football'), AIMessage(content='\\n\\n1. Pep Guardiola\\n2. Sir Alex Ferguson\\n3. Jose Mourinho'), HumanMessage(content='basketball'), AIMessage(content='\\n\\n1. Gregg Popovich - San Antonio Spurs\\n2. Phil Jackson - Chicago Bulls, Los Angeles Lakers\\n3. Pat Riley - Los Angeles Lakers, Miami Heat'), HumanMessage(content='baseball'), AIMessage(content='\\n\\n1. Joe Maddon (Chicago Cubs)\\n2. Terry Francona (Cleveland Indians)\\n3. Bruce Bochy (San Francisco Giants)')]))"
      ]
     },
     "execution_count": 15,
     "metadata": {},
     "output_type": "execute_result"
    }
   ],
   "source": [
    "chain.memory"
   ]
  },
  {
   "cell_type": "code",
   "execution_count": 16,
   "id": "690a07f6-4677-4a01-be5c-4d8ea70b93c0",
   "metadata": {},
   "outputs": [
    {
     "name": "stdout",
     "output_type": "stream",
     "text": [
      "Human: football\n",
      "AI: \n",
      "\n",
      "1. Pep Guardiola\n",
      "2. Sir Alex Ferguson\n",
      "3. Jose Mourinho\n",
      "Human: basketball\n",
      "AI: \n",
      "\n",
      "1. Gregg Popovich - San Antonio Spurs\n",
      "2. Phil Jackson - Chicago Bulls, Los Angeles Lakers\n",
      "3. Pat Riley - Los Angeles Lakers, Miami Heat\n",
      "Human: baseball\n",
      "AI: \n",
      "\n",
      "1. Joe Maddon (Chicago Cubs)\n",
      "2. Terry Francona (Cleveland Indians)\n",
      "3. Bruce Bochy (San Francisco Giants)\n"
     ]
    }
   ],
   "source": [
    "print(chain.memory.buffer)"
   ]
  },
  {
   "cell_type": "markdown",
   "id": "9901577c-1409-44b0-8cfb-5cfeb165d7f6",
   "metadata": {},
   "source": [
    "### ConversationChain\n",
    "- This can help detect the historical context."
   ]
  },
  {
   "cell_type": "code",
   "execution_count": 18,
   "id": "7f5bc16d-bd06-4c35-9022-782c7747591c",
   "metadata": {},
   "outputs": [],
   "source": [
    "from langchain.chains import ConversationChain"
   ]
  },
  {
   "cell_type": "code",
   "execution_count": 19,
   "id": "e8b82d9a-390a-48e3-b4d2-599f7c4ca072",
   "metadata": {},
   "outputs": [],
   "source": [
    "convo = ConversationChain(llm=OpenAI(openai_api_key = my_key,temperature=0.7))"
   ]
  },
  {
   "cell_type": "code",
   "execution_count": 21,
   "id": "332cb515-e5c8-4f21-bc61-5a29747ece5a",
   "metadata": {},
   "outputs": [
    {
     "name": "stdout",
     "output_type": "stream",
     "text": [
      "The following is a friendly conversation between a human and an AI. The AI is talkative and provides lots of specific details from its context. If the AI does not know the answer to a question, it truthfully says it does not know.\n",
      "\n",
      "Current conversation:\n",
      "{history}\n",
      "Human: {input}\n",
      "AI:\n"
     ]
    }
   ],
   "source": [
    "print(convo.prompt.template)"
   ]
  },
  {
   "cell_type": "code",
   "execution_count": 22,
   "id": "5675f4b7-6885-4d88-b80b-a3db8be88538",
   "metadata": {},
   "outputs": [
    {
     "data": {
      "text/plain": [
       "' The first football World Cup was won by Uruguay in 1930. They beat Argentina 4-2 in the final match. The tournament was held in Uruguay and was the result of a joint effort between FIFA and the Uruguayan Football Association. The final match was played in front of a crowd of 93,000 people. Uruguay also won the second World Cup in 1950, making them the first and only country to win the tournament twice in a row. '"
      ]
     },
     "execution_count": 22,
     "metadata": {},
     "output_type": "execute_result"
    }
   ],
   "source": [
    "convo.run('who won the first football worldcup?')"
   ]
  },
  {
   "cell_type": "code",
   "execution_count": 23,
   "id": "22c00ef8-25ac-4829-ba58-8dc589c6e086",
   "metadata": {},
   "outputs": [
    {
     "data": {
      "text/plain": [
       "' Running a social media agency involves creating and managing social media accounts for businesses or individuals. This includes creating content, scheduling posts, responding to comments and messages, and analyzing data to improve social media strategy. It also requires staying up-to-date with current social media trends and algorithms, understanding the target audience, and developing effective marketing strategies. Building a strong portfolio and networking with potential clients can also help in running a successful social media agency.'"
      ]
     },
     "execution_count": 23,
     "metadata": {},
     "output_type": "execute_result"
    }
   ],
   "source": [
    "convo.run('how can i run a social media agency?')"
   ]
  },
  {
   "cell_type": "code",
   "execution_count": 24,
   "id": "b96eb870-8643-4cbb-a11f-dc826cc77506",
   "metadata": {},
   "outputs": [
    {
     "data": {
      "text/plain": [
       "\" The captain of the Uruguay team during their first World Cup win in 1930 was José Nasazzi. He was a defender known for his strong leadership skills and was the youngest captain in the tournament at the age of 26. Nasazzi also played a crucial role in the team's success, as he scored a goal in the final match against Argentina. He went on to captain the team again in the 1950 World Cup when they won for the second time.\""
      ]
     },
     "execution_count": 24,
     "metadata": {},
     "output_type": "execute_result"
    }
   ],
   "source": [
    "convo.run('how was the captain when they won?')"
   ]
  },
  {
   "cell_type": "markdown",
   "id": "9ddb813e-96fe-4004-84c0-2a03f3eec007",
   "metadata": {},
   "source": [
    "#### ConversationBufferWindowMemory\n",
    "- This looks at the provided \"window\" of history to look at. If I give 2 then it will look at the last 2 convo to get context. "
   ]
  },
  {
   "cell_type": "code",
   "execution_count": 47,
   "id": "7a77c82a-3a2d-4e3d-b114-78e7c17996c3",
   "metadata": {},
   "outputs": [],
   "source": [
    "from langchain.memory import ConversationBufferWindowMemory"
   ]
  },
  {
   "cell_type": "code",
   "execution_count": 70,
   "id": "b3489cf2-c1e5-4276-85a1-e4eafe7c3d11",
   "metadata": {},
   "outputs": [],
   "source": [
    "memory = ConversationBufferWindowMemory(k=1)"
   ]
  },
  {
   "cell_type": "code",
   "execution_count": 71,
   "id": "cb3d3e88-95fd-4fbc-9bd2-36ff56b91d91",
   "metadata": {},
   "outputs": [],
   "source": [
    "convo = ConversationChain(llm=OpenAI(openai_api_key = my_key,temperature=0.7), memory=memory)"
   ]
  },
  {
   "cell_type": "code",
   "execution_count": 72,
   "id": "bb37b29b-54a4-4bc2-b783-5f4895fd30d1",
   "metadata": {},
   "outputs": [
    {
     "data": {
      "text/plain": [
       "\" The first Cricket World Cup was won by the West Indies in 1975. The final match was played between the West Indies and Australia, with the West Indies winning by 17 runs. The top scorer for the West Indies was Clive Lloyd, who scored 102 runs. The match was played at Lord's Cricket Ground in London, England.\""
      ]
     },
     "execution_count": 72,
     "metadata": {},
     "output_type": "execute_result"
    }
   ],
   "source": [
    "convo.run('who won the first cricket worldcup?')"
   ]
  },
  {
   "cell_type": "code",
   "execution_count": 73,
   "id": "0e4165a5-48c6-4a7c-866a-5c53dd9c812e",
   "metadata": {},
   "outputs": [
    {
     "data": {
      "text/plain": [
       "' 5+5 is equal to 10.'"
      ]
     },
     "execution_count": 73,
     "metadata": {},
     "output_type": "execute_result"
    }
   ],
   "source": [
    "convo.run('what is 5+5?')"
   ]
  },
  {
   "cell_type": "code",
   "execution_count": 74,
   "id": "4f5071c4-9134-4fe8-838b-b2cfd18a00da",
   "metadata": {},
   "outputs": [
    {
     "data": {
      "text/plain": [
       "\" I'm sorry, I don't have enough context to accurately answer that question. Can you provide more information?\""
      ]
     },
     "execution_count": 74,
     "metadata": {},
     "output_type": "execute_result"
    }
   ],
   "source": [
    "convo.run('how was the captain of the winning team?')"
   ]
  },
  {
   "cell_type": "code",
   "execution_count": 75,
   "id": "37506bbb-c86b-44aa-afa8-ed493d37f805",
   "metadata": {},
   "outputs": [
    {
     "name": "stdout",
     "output_type": "stream",
     "text": [
      "Human: how was the captain of the winning team?\n",
      "AI:  I'm sorry, I don't have enough context to accurately answer that question. Can you provide more information?\n"
     ]
    }
   ],
   "source": [
    "print(convo.memory.buffer)"
   ]
  },
  {
   "cell_type": "code",
   "execution_count": null,
   "id": "4e5b603a-d5b0-4ac8-965a-bdd66fee96ac",
   "metadata": {},
   "outputs": [],
   "source": []
  },
  {
   "cell_type": "code",
   "execution_count": null,
   "id": "90b83696-d993-4481-85a9-ec91c65bac65",
   "metadata": {},
   "outputs": [],
   "source": []
  }
 ],
 "metadata": {
  "kernelspec": {
   "display_name": "Python 3 (ipykernel)",
   "language": "python",
   "name": "python3"
  },
  "language_info": {
   "codemirror_mode": {
    "name": "ipython",
    "version": 3
   },
   "file_extension": ".py",
   "mimetype": "text/x-python",
   "name": "python",
   "nbconvert_exporter": "python",
   "pygments_lexer": "ipython3",
   "version": "3.9.0"
  }
 },
 "nbformat": 4,
 "nbformat_minor": 5
}
