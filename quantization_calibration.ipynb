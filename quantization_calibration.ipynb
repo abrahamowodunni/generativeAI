{
 "cells": [
  {
   "cell_type": "markdown",
   "id": "4b2c647e-1a39-4ed7-a301-245a5f23cdd6",
   "metadata": {},
   "source": [
    "#### Creating a simple array with random items"
   ]
  },
  {
   "cell_type": "code",
   "execution_count": 5,
   "id": "4590e40d-4c76-450a-b2d7-9e1085bff7a6",
   "metadata": {},
   "outputs": [],
   "source": [
    "import numpy as np \n",
    "\n",
    "np.set_printoptions(suppress = True)\n",
    "\n",
    "# Generatinf random distribution \"tensors\"\n",
    "params = np.random.uniform(low = -20, high = 200, size = 15)"
   ]
  },
  {
   "cell_type": "code",
   "execution_count": 6,
   "id": "710c60bc-1f58-4d26-ba17-bdae5dea2dbb",
   "metadata": {},
   "outputs": [],
   "source": [
    "# modifing for easy debugging\n",
    "params[0] = params.max() + 1\n",
    "params[1] = params.min() - 1\n",
    "params[2] = 0"
   ]
  },
  {
   "cell_type": "code",
   "execution_count": 7,
   "id": "563958fd-0b4a-4eb6-9f30-144b55bcd521",
   "metadata": {},
   "outputs": [
    {
     "data": {
      "text/plain": [
       "array([194.7485, -20.0944,   0.    ,  17.3086,  11.5532, 114.3453,\n",
       "        72.5922,  11.1024, 108.8563,  30.072 , 108.287 , -19.0944,\n",
       "        53.1751,  91.8896,  36.3399])"
      ]
     },
     "execution_count": 7,
     "metadata": {},
     "output_type": "execute_result"
    }
   ],
   "source": [
    "params = np.round(params,4)\n",
    "params"
   ]
  },
  {
   "cell_type": "markdown",
   "id": "508bec6f-29ac-4b33-9065-f94cfc33149d",
   "metadata": {},
   "source": [
    "### Function for clamping"
   ]
  },
  {
   "cell_type": "code",
   "execution_count": 8,
   "id": "f2e91e68-51e5-44bf-9359-745c25481771",
   "metadata": {},
   "outputs": [],
   "source": [
    "def clamping(params_arr, lower_bound, upper_bound):\n",
    "    params_arr[params_arr < lower_bound] = lower_bound\n",
    "    params_arr[params_arr > upper_bound] = upper_bound\n",
    "    return params_arr"
   ]
  },
  {
   "cell_type": "markdown",
   "id": "39f68b54-6bc0-4a95-aa82-0c894eb622cb",
   "metadata": {},
   "source": [
    "### Function for asymmetric quantization and dequantization"
   ]
  },
  {
   "cell_type": "code",
   "execution_count": 13,
   "id": "136878cc-2db5-4bb6-a00e-bb52efd85f1f",
   "metadata": {},
   "outputs": [],
   "source": [
    "def asymmetric_quantization(params, bits):\n",
    "    alpha = np.max(params) # the largest value in our \"tensor\"\n",
    "    beta = np.min(params) # smallest value in our \"tensor\"\n",
    "    scale = (alpha - beta) / (2**bits - 1) # here wa can also use min/max scaler\n",
    "    zero_point = -1*(beta / scale)\n",
    "    lower_bound, upper_bound = 0, (2**bits - 1)\n",
    "    # Quantization \n",
    "    quantized = clamping(np.round(params/scale + zero_point), lower_bound, upper_bound).astype(np.int32)\n",
    "    return quantized, scale, zero_point\n",
    "\n",
    "def asymmetric_dequantization(params_q, scale, zero_point):\n",
    "    return scale * (params_q - zero_point)"
   ]
  },
  {
   "cell_type": "markdown",
   "id": "ca0ff6f3-99b0-4606-9c59-fbee3587460f",
   "metadata": {},
   "source": [
    "### Function for symmetric quantization and dequantization"
   ]
  },
  {
   "cell_type": "code",
   "execution_count": 22,
   "id": "c47142a8-abff-4868-885a-6251c85ad6d6",
   "metadata": {},
   "outputs": [],
   "source": [
    "def symmetric_quantization(params, bits):\n",
    "    alpha = np.max(np.abs(params)) # the max absolute value\n",
    "    scale = (alpha) / (2**(bits-1) - 1)\n",
    "    lower_bound, upper_bound = -(2**bits - 1), (2**bits - 1)\n",
    "    # Quantization \n",
    "    quantized = clamping(np.round(params/scale), lower_bound, upper_bound).astype(np.int32)\n",
    "    return quantized, scale\n",
    "\n",
    "def symmetric_dequantization(params_q, scale):\n",
    "    return scale * params_q"
   ]
  },
  {
   "cell_type": "markdown",
   "id": "d8611341-138c-421f-bec7-5c2573deed06",
   "metadata": {},
   "source": [
    "### Quantization error"
   ]
  },
  {
   "cell_type": "code",
   "execution_count": 23,
   "id": "01e21fe5-5ebf-4274-ad53-d1e9428da9d3",
   "metadata": {},
   "outputs": [],
   "source": [
    "def quantization_error(params, params_q):\n",
    "    # we can calculate any for of loss here. ** MSE **\n",
    "    return np.mean((params - params_q)**2)"
   ]
  },
  {
   "cell_type": "markdown",
   "id": "93f05e7f-19ef-4d03-96d0-2105653b65ef",
   "metadata": {},
   "source": [
    "### Seeing how it plays out"
   ]
  },
  {
   "cell_type": "code",
   "execution_count": 24,
   "id": "a259dc0c-0141-4c7d-ad57-aff9d8d81d5f",
   "metadata": {},
   "outputs": [
    {
     "name": "stdout",
     "output_type": "stream",
     "text": [
      "Original:\n",
      "[194.75 -20.09   0.    17.31  11.55 114.35  72.59  11.1  108.86  30.07\n",
      " 108.29 -19.09  53.18  91.89  36.34]\n",
      "\n",
      "Asymmetric scale: 0.8425211764705883, zero: 23.850320396903967\n",
      "[255   0  24  44  38 160 110  37 153  60 152   1  87 133  67]\n",
      "\n",
      "Symmetric scale: 1.5334527559055118\n",
      "[127 -13   0  11   8  75  47   7  71  20  71 -12  35  60  24]\n"
     ]
    }
   ],
   "source": [
    "(asymmetric_q, asymmetric_scale, asymmetric_zero) = asymmetric_quantization(params, 8)\n",
    "(symmetric_q, symmetric_scale) = symmetric_quantization(params, 8)\n",
    "\n",
    "print(f'Original:')\n",
    "print(np.round(params, 2))\n",
    "print('')\n",
    "print(f'Asymmetric scale: {asymmetric_scale}, zero: {asymmetric_zero}')\n",
    "print(asymmetric_q)\n",
    "print('')\n",
    "print(f'Symmetric scale: {symmetric_scale}')\n",
    "print(symmetric_q)"
   ]
  },
  {
   "cell_type": "code",
   "execution_count": 25,
   "id": "477df292-6986-4f72-923e-1d2dab21bba4",
   "metadata": {},
   "outputs": [
    {
     "name": "stdout",
     "output_type": "stream",
     "text": [
      "Original:\n",
      "[194.75 -20.09   0.    17.31  11.55 114.35  72.59  11.1  108.86  30.07\n",
      " 108.29 -19.09  53.18  91.89  36.34]\n",
      "\n",
      "Dequantize Asymmetric:\n",
      "[194.75 -20.09   0.13  16.98  11.92 114.71  72.58  11.08 108.81  30.46\n",
      " 107.97 -19.25  53.2   91.96  36.35]\n",
      "\n",
      "Dequantize Symmetric:\n",
      "[194.75 -19.93   0.    16.87  12.27 115.01  72.07  10.73 108.88  30.67\n",
      " 108.88 -18.4   53.67  92.01  36.8 ]\n"
     ]
    }
   ],
   "source": [
    "# Dequantize the parameters back to 32 bits\n",
    "params_deq_asymmetric = asymmetric_dequantization(asymmetric_q, asymmetric_scale, asymmetric_zero)\n",
    "params_deq_symmetric = symmetric_dequantization(symmetric_q, symmetric_scale)\n",
    "\n",
    "print(f'Original:')\n",
    "print(np.round(params, 2))\n",
    "print('')\n",
    "print(f'Dequantize Asymmetric:')\n",
    "print(np.round(params_deq_asymmetric,2))\n",
    "print('')\n",
    "print(f'Dequantize Symmetric:')\n",
    "print(np.round(params_deq_symmetric, 2))"
   ]
  },
  {
   "cell_type": "code",
   "execution_count": null,
   "id": "23f70efb-e5d6-4e24-9369-91bfea68ce64",
   "metadata": {},
   "outputs": [],
   "source": []
  },
  {
   "cell_type": "code",
   "execution_count": null,
   "id": "002ce1c0-cb47-46c5-81d3-e54eed6c2baa",
   "metadata": {},
   "outputs": [],
   "source": []
  },
  {
   "cell_type": "code",
   "execution_count": null,
   "id": "9423862c-eb71-44fa-ac6d-b52726b51abe",
   "metadata": {},
   "outputs": [],
   "source": []
  },
  {
   "cell_type": "code",
   "execution_count": null,
   "id": "9cb933be-64ec-48ff-83fe-e9dbfb04c6c5",
   "metadata": {},
   "outputs": [],
   "source": []
  },
  {
   "cell_type": "code",
   "execution_count": null,
   "id": "c9b08034-1647-4fca-bdc8-05ebde8ad973",
   "metadata": {},
   "outputs": [],
   "source": []
  },
  {
   "cell_type": "code",
   "execution_count": null,
   "id": "dc48dc4c-55ba-452b-a6ee-0feed550c74d",
   "metadata": {},
   "outputs": [],
   "source": []
  },
  {
   "cell_type": "code",
   "execution_count": null,
   "id": "789ee501-2e60-4b87-826b-fce0fb637722",
   "metadata": {},
   "outputs": [],
   "source": []
  },
  {
   "cell_type": "code",
   "execution_count": null,
   "id": "0f59ca02-61c8-40a5-bbf9-92e40f49a903",
   "metadata": {},
   "outputs": [],
   "source": []
  },
  {
   "cell_type": "code",
   "execution_count": null,
   "id": "aea620dd-4736-44c2-b7e9-53a44bf67b7a",
   "metadata": {},
   "outputs": [],
   "source": []
  },
  {
   "cell_type": "code",
   "execution_count": null,
   "id": "fa4dda2b-cda1-4dab-92b2-d22e7b04653f",
   "metadata": {},
   "outputs": [],
   "source": []
  },
  {
   "cell_type": "code",
   "execution_count": null,
   "id": "05b1510f-b1d2-4daa-9f42-8998b0f12b8e",
   "metadata": {},
   "outputs": [],
   "source": []
  },
  {
   "cell_type": "code",
   "execution_count": null,
   "id": "d183e31f-0f18-42a9-983f-7aa871768071",
   "metadata": {},
   "outputs": [],
   "source": []
  },
  {
   "cell_type": "code",
   "execution_count": null,
   "id": "559b4fa8-90b9-4408-9637-e1baa8e40fdc",
   "metadata": {},
   "outputs": [],
   "source": []
  }
 ],
 "metadata": {
  "kernelspec": {
   "display_name": "Python 3 (ipykernel)",
   "language": "python",
   "name": "python3"
  },
  "language_info": {
   "codemirror_mode": {
    "name": "ipython",
    "version": 3
   },
   "file_extension": ".py",
   "mimetype": "text/x-python",
   "name": "python",
   "nbconvert_exporter": "python",
   "pygments_lexer": "ipython3",
   "version": "3.11.5"
  }
 },
 "nbformat": 4,
 "nbformat_minor": 5
}
